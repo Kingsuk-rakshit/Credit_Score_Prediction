{
 "cells": [
  {
   "cell_type": "markdown",
   "id": "bb5863ea",
   "metadata": {
    "execution": {
     "iopub.execute_input": "2024-05-23T02:38:30.118202Z",
     "iopub.status.busy": "2024-05-23T02:38:30.117536Z",
     "iopub.status.idle": "2024-05-23T02:38:47.605279Z",
     "shell.execute_reply": "2024-05-23T02:38:47.603952Z",
     "shell.execute_reply.started": "2024-05-23T02:38:30.118168Z"
    },
    "papermill": {
     "duration": 0.018237,
     "end_time": "2024-08-06T04:47:49.377455",
     "exception": false,
     "start_time": "2024-08-06T04:47:49.359218",
     "status": "completed"
    },
    "tags": []
   },
   "source": [
    "# Introduction\n",
    "\n",
    "This notebook aims to predict credict socre from the dataset which labeled sample as good/standard/poor account. Besieds, this notebook will also try to measure the uncertainty of the prediction, like providing a predictive interval or possible predictive set. NGBoost and Conformal Prediction will be used below."
   ]
  },
  {
   "cell_type": "markdown",
   "id": "439b1e62",
   "metadata": {
    "papermill": {
     "duration": 0.017446,
     "end_time": "2024-08-06T04:47:49.412892",
     "exception": false,
     "start_time": "2024-08-06T04:47:49.395446",
     "status": "completed"
    },
    "tags": []
   },
   "source": [
    "# Dependencies"
   ]
  },
  {
   "cell_type": "code",
   "execution_count": 78,
   "id": "7ed55093",
   "metadata": {
    "execution": {
     "iopub.execute_input": "2024-08-06T04:48:10.876482Z",
     "iopub.status.busy": "2024-08-06T04:48:10.876071Z",
     "iopub.status.idle": "2024-08-06T04:48:36.872250Z",
     "shell.execute_reply": "2024-08-06T04:48:36.870876Z"
    },
    "papermill": {
     "duration": 26.02194,
     "end_time": "2024-08-06T04:48:36.875186",
     "exception": false,
     "start_time": "2024-08-06T04:48:10.853246",
     "status": "completed"
    },
    "tags": []
   },
   "outputs": [],
   "source": [
    "import numpy as np\n",
    "import pandas as pd\n",
    "import math\n",
    "import random\n",
    "import seaborn as sns\n",
    "import matplotlib.pyplot as plt\n",
    "from sklearn.model_selection import train_test_split, cross_validate\n",
    "from sklearn import metrics\n",
    "from imblearn.over_sampling import SMOTE\n",
    "from sklearn.preprocessing import StandardScaler\n",
    "import shap\n",
    "from sklearn.svm import SVC\n",
    "from sklearn.metrics import make_scorer, accuracy_score, precision_score, recall_score, f1_score\n",
    "from tensorflow.keras.models import Sequential\n",
    "from tensorflow.keras.layers import Dense, LSTM\n",
    "from keras.callbacks import EarlyStopping\n",
    "from tensorflow import keras\n",
    "from keras.utils import to_categorical\n",
    "import os\n",
    "from scipy.stats import norm"
   ]
  },
  {
   "cell_type": "code",
   "execution_count": 79,
   "id": "ecaf9a25",
   "metadata": {},
   "outputs": [
    {
     "name": "stdout",
     "output_type": "stream",
     "text": [
      "d:\\Msc data science\\sem 4\\web project data science\\Score_Sense_django\\Score_Sense\\webapp\n"
     ]
    }
   ],
   "source": [
    "import os\n",
    "print(os.getcwd())\n"
   ]
  },
  {
   "cell_type": "code",
   "execution_count": 80,
   "id": "072a7a2e",
   "metadata": {},
   "outputs": [
    {
     "data": {
      "text/html": [
       "<div>\n",
       "<style scoped>\n",
       "    .dataframe tbody tr th:only-of-type {\n",
       "        vertical-align: middle;\n",
       "    }\n",
       "\n",
       "    .dataframe tbody tr th {\n",
       "        vertical-align: top;\n",
       "    }\n",
       "\n",
       "    .dataframe thead th {\n",
       "        text-align: right;\n",
       "    }\n",
       "</style>\n",
       "<table border=\"1\" class=\"dataframe\">\n",
       "  <thead>\n",
       "    <tr style=\"text-align: right;\">\n",
       "      <th></th>\n",
       "      <th>ID</th>\n",
       "      <th>Customer_ID</th>\n",
       "      <th>Month</th>\n",
       "      <th>Name</th>\n",
       "      <th>Age</th>\n",
       "      <th>SSN</th>\n",
       "      <th>Occupation</th>\n",
       "      <th>Annual_Income</th>\n",
       "      <th>Monthly_Inhand_Salary</th>\n",
       "      <th>Num_Bank_Accounts</th>\n",
       "      <th>...</th>\n",
       "      <th>Credit_Mix</th>\n",
       "      <th>Outstanding_Debt</th>\n",
       "      <th>Credit_Utilization_Ratio</th>\n",
       "      <th>Credit_History_Age</th>\n",
       "      <th>Payment_of_Min_Amount</th>\n",
       "      <th>Total_EMI_per_month</th>\n",
       "      <th>Amount_invested_monthly</th>\n",
       "      <th>Payment_Behaviour</th>\n",
       "      <th>Monthly_Balance</th>\n",
       "      <th>Credit_Score</th>\n",
       "    </tr>\n",
       "  </thead>\n",
       "  <tbody>\n",
       "    <tr>\n",
       "      <th>0</th>\n",
       "      <td>0x1602</td>\n",
       "      <td>CUS_0xd40</td>\n",
       "      <td>January</td>\n",
       "      <td>Aaron Maashoh</td>\n",
       "      <td>23</td>\n",
       "      <td>821-00-0265</td>\n",
       "      <td>Scientist</td>\n",
       "      <td>19114.12</td>\n",
       "      <td>1824.843333</td>\n",
       "      <td>3</td>\n",
       "      <td>...</td>\n",
       "      <td>_</td>\n",
       "      <td>809.98</td>\n",
       "      <td>26.822620</td>\n",
       "      <td>22 Years and 1 Months</td>\n",
       "      <td>No</td>\n",
       "      <td>49.574949</td>\n",
       "      <td>80.41529543900253</td>\n",
       "      <td>High_spent_Small_value_payments</td>\n",
       "      <td>312.49408867943663</td>\n",
       "      <td>Good</td>\n",
       "    </tr>\n",
       "    <tr>\n",
       "      <th>1</th>\n",
       "      <td>0x1603</td>\n",
       "      <td>CUS_0xd40</td>\n",
       "      <td>February</td>\n",
       "      <td>Aaron Maashoh</td>\n",
       "      <td>23</td>\n",
       "      <td>821-00-0265</td>\n",
       "      <td>Scientist</td>\n",
       "      <td>19114.12</td>\n",
       "      <td>NaN</td>\n",
       "      <td>3</td>\n",
       "      <td>...</td>\n",
       "      <td>Good</td>\n",
       "      <td>809.98</td>\n",
       "      <td>31.944960</td>\n",
       "      <td>NaN</td>\n",
       "      <td>No</td>\n",
       "      <td>49.574949</td>\n",
       "      <td>118.28022162236736</td>\n",
       "      <td>Low_spent_Large_value_payments</td>\n",
       "      <td>284.62916249607184</td>\n",
       "      <td>Good</td>\n",
       "    </tr>\n",
       "    <tr>\n",
       "      <th>2</th>\n",
       "      <td>0x1604</td>\n",
       "      <td>CUS_0xd40</td>\n",
       "      <td>March</td>\n",
       "      <td>Aaron Maashoh</td>\n",
       "      <td>-500</td>\n",
       "      <td>821-00-0265</td>\n",
       "      <td>Scientist</td>\n",
       "      <td>19114.12</td>\n",
       "      <td>NaN</td>\n",
       "      <td>3</td>\n",
       "      <td>...</td>\n",
       "      <td>Good</td>\n",
       "      <td>809.98</td>\n",
       "      <td>28.609352</td>\n",
       "      <td>22 Years and 3 Months</td>\n",
       "      <td>No</td>\n",
       "      <td>49.574949</td>\n",
       "      <td>81.699521264648</td>\n",
       "      <td>Low_spent_Medium_value_payments</td>\n",
       "      <td>331.2098628537912</td>\n",
       "      <td>Good</td>\n",
       "    </tr>\n",
       "    <tr>\n",
       "      <th>3</th>\n",
       "      <td>0x1605</td>\n",
       "      <td>CUS_0xd40</td>\n",
       "      <td>April</td>\n",
       "      <td>Aaron Maashoh</td>\n",
       "      <td>23</td>\n",
       "      <td>821-00-0265</td>\n",
       "      <td>Scientist</td>\n",
       "      <td>19114.12</td>\n",
       "      <td>NaN</td>\n",
       "      <td>3</td>\n",
       "      <td>...</td>\n",
       "      <td>Good</td>\n",
       "      <td>809.98</td>\n",
       "      <td>31.377862</td>\n",
       "      <td>22 Years and 4 Months</td>\n",
       "      <td>No</td>\n",
       "      <td>49.574949</td>\n",
       "      <td>199.4580743910713</td>\n",
       "      <td>Low_spent_Small_value_payments</td>\n",
       "      <td>223.45130972736786</td>\n",
       "      <td>Good</td>\n",
       "    </tr>\n",
       "    <tr>\n",
       "      <th>4</th>\n",
       "      <td>0x1606</td>\n",
       "      <td>CUS_0xd40</td>\n",
       "      <td>May</td>\n",
       "      <td>Aaron Maashoh</td>\n",
       "      <td>23</td>\n",
       "      <td>821-00-0265</td>\n",
       "      <td>Scientist</td>\n",
       "      <td>19114.12</td>\n",
       "      <td>1824.843333</td>\n",
       "      <td>3</td>\n",
       "      <td>...</td>\n",
       "      <td>Good</td>\n",
       "      <td>809.98</td>\n",
       "      <td>24.797347</td>\n",
       "      <td>22 Years and 5 Months</td>\n",
       "      <td>No</td>\n",
       "      <td>49.574949</td>\n",
       "      <td>41.420153086217326</td>\n",
       "      <td>High_spent_Medium_value_payments</td>\n",
       "      <td>341.48923103222177</td>\n",
       "      <td>Good</td>\n",
       "    </tr>\n",
       "  </tbody>\n",
       "</table>\n",
       "<p>5 rows × 28 columns</p>\n",
       "</div>"
      ],
      "text/plain": [
       "       ID Customer_ID     Month           Name   Age          SSN Occupation   \n",
       "0  0x1602   CUS_0xd40   January  Aaron Maashoh    23  821-00-0265  Scientist  \\\n",
       "1  0x1603   CUS_0xd40  February  Aaron Maashoh    23  821-00-0265  Scientist   \n",
       "2  0x1604   CUS_0xd40     March  Aaron Maashoh  -500  821-00-0265  Scientist   \n",
       "3  0x1605   CUS_0xd40     April  Aaron Maashoh    23  821-00-0265  Scientist   \n",
       "4  0x1606   CUS_0xd40       May  Aaron Maashoh    23  821-00-0265  Scientist   \n",
       "\n",
       "  Annual_Income  Monthly_Inhand_Salary  Num_Bank_Accounts  ...  Credit_Mix   \n",
       "0      19114.12            1824.843333                  3  ...           _  \\\n",
       "1      19114.12                    NaN                  3  ...        Good   \n",
       "2      19114.12                    NaN                  3  ...        Good   \n",
       "3      19114.12                    NaN                  3  ...        Good   \n",
       "4      19114.12            1824.843333                  3  ...        Good   \n",
       "\n",
       "   Outstanding_Debt Credit_Utilization_Ratio     Credit_History_Age   \n",
       "0            809.98                26.822620  22 Years and 1 Months  \\\n",
       "1            809.98                31.944960                    NaN   \n",
       "2            809.98                28.609352  22 Years and 3 Months   \n",
       "3            809.98                31.377862  22 Years and 4 Months   \n",
       "4            809.98                24.797347  22 Years and 5 Months   \n",
       "\n",
       "   Payment_of_Min_Amount Total_EMI_per_month Amount_invested_monthly   \n",
       "0                     No           49.574949       80.41529543900253  \\\n",
       "1                     No           49.574949      118.28022162236736   \n",
       "2                     No           49.574949         81.699521264648   \n",
       "3                     No           49.574949       199.4580743910713   \n",
       "4                     No           49.574949      41.420153086217326   \n",
       "\n",
       "                  Payment_Behaviour     Monthly_Balance Credit_Score  \n",
       "0   High_spent_Small_value_payments  312.49408867943663         Good  \n",
       "1    Low_spent_Large_value_payments  284.62916249607184         Good  \n",
       "2   Low_spent_Medium_value_payments   331.2098628537912         Good  \n",
       "3    Low_spent_Small_value_payments  223.45130972736786         Good  \n",
       "4  High_spent_Medium_value_payments  341.48923103222177         Good  \n",
       "\n",
       "[5 rows x 28 columns]"
      ]
     },
     "execution_count": 80,
     "metadata": {},
     "output_type": "execute_result"
    }
   ],
   "source": [
    "import os\n",
    "\n",
    "# Construct the relative path\n",
    "dataset_path = os.path.join('data', 'train.csv')\n",
    "df = pd.read_csv(dataset_path, low_memory=False)\n",
    "df.head(5)\n"
   ]
  },
  {
   "cell_type": "markdown",
   "id": "b794cbba",
   "metadata": {
    "papermill": {
     "duration": 0.021069,
     "end_time": "2024-08-06T04:48:38.308735",
     "exception": false,
     "start_time": "2024-08-06T04:48:38.287666",
     "status": "completed"
    },
    "tags": []
   },
   "source": [
    "# Preprocess"
   ]
  },
  {
   "cell_type": "code",
   "execution_count": 81,
   "id": "0242e6b1",
   "metadata": {
    "execution": {
     "iopub.execute_input": "2024-08-06T04:48:38.353959Z",
     "iopub.status.busy": "2024-08-06T04:48:38.353530Z",
     "iopub.status.idle": "2024-08-06T04:48:38.376394Z",
     "shell.execute_reply": "2024-08-06T04:48:38.374946Z"
    },
    "papermill": {
     "duration": 0.049116,
     "end_time": "2024-08-06T04:48:38.379291",
     "exception": false,
     "start_time": "2024-08-06T04:48:38.330175",
     "status": "completed"
    },
    "tags": []
   },
   "outputs": [],
   "source": [
    "#Drop Irrelevant Features\n",
    "df.drop([\"Name\", \"SSN\", \"ID\", \"Customer_ID\"], axis=1, inplace=True, errors=\"ignore\")"
   ]
  },
  {
   "cell_type": "code",
   "execution_count": 82,
   "id": "48d418c6",
   "metadata": {
    "execution": {
     "iopub.execute_input": "2024-08-06T04:48:38.424434Z",
     "iopub.status.busy": "2024-08-06T04:48:38.424041Z",
     "iopub.status.idle": "2024-08-06T04:48:38.481632Z",
     "shell.execute_reply": "2024-08-06T04:48:38.480254Z"
    },
    "papermill": {
     "duration": 0.083117,
     "end_time": "2024-08-06T04:48:38.484189",
     "exception": false,
     "start_time": "2024-08-06T04:48:38.401072",
     "status": "completed"
    },
    "tags": []
   },
   "outputs": [
    {
     "name": "stdout",
     "output_type": "stream",
     "text": [
      "Credit Score Class Distribution\n",
      "Poor:  28998\n",
      "Standard:  53174\n",
      "Good:  17828\n"
     ]
    }
   ],
   "source": [
    "print(\"Credit Score Class Distribution\")\n",
    "print(\"Poor: \",df['Credit_Score'].value_counts()['Poor'])\n",
    "print(\"Standard: \",df['Credit_Score'].value_counts()['Standard'])\n",
    "print(\"Good: \",df['Credit_Score'].value_counts()['Good'])"
   ]
  },
  {
   "cell_type": "code",
   "execution_count": 83,
   "id": "9f1809e2",
   "metadata": {
    "execution": {
     "iopub.execute_input": "2024-08-06T04:48:38.529738Z",
     "iopub.status.busy": "2024-08-06T04:48:38.529273Z",
     "iopub.status.idle": "2024-08-06T04:48:38.797769Z",
     "shell.execute_reply": "2024-08-06T04:48:38.796418Z"
    },
    "papermill": {
     "duration": 0.294554,
     "end_time": "2024-08-06T04:48:38.800743",
     "exception": false,
     "start_time": "2024-08-06T04:48:38.506189",
     "status": "completed"
    },
    "tags": []
   },
   "outputs": [],
   "source": [
    "def text_to_months(text):\n",
    "    if pd.isna(text):\n",
    "        return 0\n",
    "    # Split the text into individual words\n",
    "    words = text.split()\n",
    "\n",
    "    # Extract the years and months\n",
    "    years = int(words[0])\n",
    "    months = int(words[3]) if len(words) > 3 else 0\n",
    "\n",
    "    # Calculate the total number of months\n",
    "    total_months = years * 12 + months\n",
    "\n",
    "    return total_months\n",
    "\n",
    "df['Credit_History_Age'] = df['Credit_History_Age'].apply(text_to_months)"
   ]
  },
  {
   "cell_type": "code",
   "execution_count": 84,
   "id": "5ceb68f8",
   "metadata": {
    "execution": {
     "iopub.execute_input": "2024-08-06T04:48:38.846069Z",
     "iopub.status.busy": "2024-08-06T04:48:38.845677Z",
     "iopub.status.idle": "2024-08-06T04:48:38.872830Z",
     "shell.execute_reply": "2024-08-06T04:48:38.871596Z"
    },
    "papermill": {
     "duration": 0.052984,
     "end_time": "2024-08-06T04:48:38.875443",
     "exception": false,
     "start_time": "2024-08-06T04:48:38.822459",
     "status": "completed"
    },
    "tags": []
   },
   "outputs": [
    {
     "data": {
      "text/html": [
       "<div>\n",
       "<style scoped>\n",
       "    .dataframe tbody tr th:only-of-type {\n",
       "        vertical-align: middle;\n",
       "    }\n",
       "\n",
       "    .dataframe tbody tr th {\n",
       "        vertical-align: top;\n",
       "    }\n",
       "\n",
       "    .dataframe thead th {\n",
       "        text-align: right;\n",
       "    }\n",
       "</style>\n",
       "<table border=\"1\" class=\"dataframe\">\n",
       "  <thead>\n",
       "    <tr style=\"text-align: right;\">\n",
       "      <th></th>\n",
       "      <th>Month</th>\n",
       "      <th>Age</th>\n",
       "      <th>Occupation</th>\n",
       "      <th>Annual_Income</th>\n",
       "      <th>Monthly_Inhand_Salary</th>\n",
       "      <th>Num_Bank_Accounts</th>\n",
       "      <th>Num_Credit_Card</th>\n",
       "      <th>Interest_Rate</th>\n",
       "      <th>Num_of_Loan</th>\n",
       "      <th>Type_of_Loan</th>\n",
       "      <th>...</th>\n",
       "      <th>Credit_Mix</th>\n",
       "      <th>Outstanding_Debt</th>\n",
       "      <th>Credit_Utilization_Ratio</th>\n",
       "      <th>Credit_History_Age</th>\n",
       "      <th>Payment_of_Min_Amount</th>\n",
       "      <th>Total_EMI_per_month</th>\n",
       "      <th>Amount_invested_monthly</th>\n",
       "      <th>Payment_Behaviour</th>\n",
       "      <th>Monthly_Balance</th>\n",
       "      <th>Credit_Score</th>\n",
       "    </tr>\n",
       "  </thead>\n",
       "  <tbody>\n",
       "    <tr>\n",
       "      <th>0</th>\n",
       "      <td>January</td>\n",
       "      <td>23</td>\n",
       "      <td>Scientist</td>\n",
       "      <td>19114.12</td>\n",
       "      <td>1824.843333</td>\n",
       "      <td>3</td>\n",
       "      <td>4</td>\n",
       "      <td>3</td>\n",
       "      <td>4</td>\n",
       "      <td>Auto Loan, Credit-Builder Loan, Personal Loan,...</td>\n",
       "      <td>...</td>\n",
       "      <td>_</td>\n",
       "      <td>809.98</td>\n",
       "      <td>26.822620</td>\n",
       "      <td>265</td>\n",
       "      <td>No</td>\n",
       "      <td>49.574949</td>\n",
       "      <td>80.41529543900253</td>\n",
       "      <td>High_spent_Small_value_payments</td>\n",
       "      <td>312.49408867943663</td>\n",
       "      <td>Good</td>\n",
       "    </tr>\n",
       "    <tr>\n",
       "      <th>1</th>\n",
       "      <td>February</td>\n",
       "      <td>23</td>\n",
       "      <td>Scientist</td>\n",
       "      <td>19114.12</td>\n",
       "      <td>NaN</td>\n",
       "      <td>3</td>\n",
       "      <td>4</td>\n",
       "      <td>3</td>\n",
       "      <td>4</td>\n",
       "      <td>Auto Loan, Credit-Builder Loan, Personal Loan,...</td>\n",
       "      <td>...</td>\n",
       "      <td>Good</td>\n",
       "      <td>809.98</td>\n",
       "      <td>31.944960</td>\n",
       "      <td>0</td>\n",
       "      <td>No</td>\n",
       "      <td>49.574949</td>\n",
       "      <td>118.28022162236736</td>\n",
       "      <td>Low_spent_Large_value_payments</td>\n",
       "      <td>284.62916249607184</td>\n",
       "      <td>Good</td>\n",
       "    </tr>\n",
       "    <tr>\n",
       "      <th>2</th>\n",
       "      <td>March</td>\n",
       "      <td>-500</td>\n",
       "      <td>Scientist</td>\n",
       "      <td>19114.12</td>\n",
       "      <td>NaN</td>\n",
       "      <td>3</td>\n",
       "      <td>4</td>\n",
       "      <td>3</td>\n",
       "      <td>4</td>\n",
       "      <td>Auto Loan, Credit-Builder Loan, Personal Loan,...</td>\n",
       "      <td>...</td>\n",
       "      <td>Good</td>\n",
       "      <td>809.98</td>\n",
       "      <td>28.609352</td>\n",
       "      <td>267</td>\n",
       "      <td>No</td>\n",
       "      <td>49.574949</td>\n",
       "      <td>81.699521264648</td>\n",
       "      <td>Low_spent_Medium_value_payments</td>\n",
       "      <td>331.2098628537912</td>\n",
       "      <td>Good</td>\n",
       "    </tr>\n",
       "    <tr>\n",
       "      <th>3</th>\n",
       "      <td>April</td>\n",
       "      <td>23</td>\n",
       "      <td>Scientist</td>\n",
       "      <td>19114.12</td>\n",
       "      <td>NaN</td>\n",
       "      <td>3</td>\n",
       "      <td>4</td>\n",
       "      <td>3</td>\n",
       "      <td>4</td>\n",
       "      <td>Auto Loan, Credit-Builder Loan, Personal Loan,...</td>\n",
       "      <td>...</td>\n",
       "      <td>Good</td>\n",
       "      <td>809.98</td>\n",
       "      <td>31.377862</td>\n",
       "      <td>268</td>\n",
       "      <td>No</td>\n",
       "      <td>49.574949</td>\n",
       "      <td>199.4580743910713</td>\n",
       "      <td>Low_spent_Small_value_payments</td>\n",
       "      <td>223.45130972736786</td>\n",
       "      <td>Good</td>\n",
       "    </tr>\n",
       "    <tr>\n",
       "      <th>4</th>\n",
       "      <td>May</td>\n",
       "      <td>23</td>\n",
       "      <td>Scientist</td>\n",
       "      <td>19114.12</td>\n",
       "      <td>1824.843333</td>\n",
       "      <td>3</td>\n",
       "      <td>4</td>\n",
       "      <td>3</td>\n",
       "      <td>4</td>\n",
       "      <td>Auto Loan, Credit-Builder Loan, Personal Loan,...</td>\n",
       "      <td>...</td>\n",
       "      <td>Good</td>\n",
       "      <td>809.98</td>\n",
       "      <td>24.797347</td>\n",
       "      <td>269</td>\n",
       "      <td>No</td>\n",
       "      <td>49.574949</td>\n",
       "      <td>41.420153086217326</td>\n",
       "      <td>High_spent_Medium_value_payments</td>\n",
       "      <td>341.48923103222177</td>\n",
       "      <td>Good</td>\n",
       "    </tr>\n",
       "  </tbody>\n",
       "</table>\n",
       "<p>5 rows × 24 columns</p>\n",
       "</div>"
      ],
      "text/plain": [
       "      Month   Age Occupation Annual_Income  Monthly_Inhand_Salary   \n",
       "0   January    23  Scientist      19114.12            1824.843333  \\\n",
       "1  February    23  Scientist      19114.12                    NaN   \n",
       "2     March  -500  Scientist      19114.12                    NaN   \n",
       "3     April    23  Scientist      19114.12                    NaN   \n",
       "4       May    23  Scientist      19114.12            1824.843333   \n",
       "\n",
       "   Num_Bank_Accounts  Num_Credit_Card  Interest_Rate Num_of_Loan   \n",
       "0                  3                4              3           4  \\\n",
       "1                  3                4              3           4   \n",
       "2                  3                4              3           4   \n",
       "3                  3                4              3           4   \n",
       "4                  3                4              3           4   \n",
       "\n",
       "                                        Type_of_Loan  ...  Credit_Mix   \n",
       "0  Auto Loan, Credit-Builder Loan, Personal Loan,...  ...           _  \\\n",
       "1  Auto Loan, Credit-Builder Loan, Personal Loan,...  ...        Good   \n",
       "2  Auto Loan, Credit-Builder Loan, Personal Loan,...  ...        Good   \n",
       "3  Auto Loan, Credit-Builder Loan, Personal Loan,...  ...        Good   \n",
       "4  Auto Loan, Credit-Builder Loan, Personal Loan,...  ...        Good   \n",
       "\n",
       "  Outstanding_Debt Credit_Utilization_Ratio  Credit_History_Age   \n",
       "0           809.98                26.822620                 265  \\\n",
       "1           809.98                31.944960                   0   \n",
       "2           809.98                28.609352                 267   \n",
       "3           809.98                31.377862                 268   \n",
       "4           809.98                24.797347                 269   \n",
       "\n",
       "  Payment_of_Min_Amount Total_EMI_per_month  Amount_invested_monthly   \n",
       "0                    No           49.574949        80.41529543900253  \\\n",
       "1                    No           49.574949       118.28022162236736   \n",
       "2                    No           49.574949          81.699521264648   \n",
       "3                    No           49.574949        199.4580743910713   \n",
       "4                    No           49.574949       41.420153086217326   \n",
       "\n",
       "                  Payment_Behaviour     Monthly_Balance  Credit_Score  \n",
       "0   High_spent_Small_value_payments  312.49408867943663          Good  \n",
       "1    Low_spent_Large_value_payments  284.62916249607184          Good  \n",
       "2   Low_spent_Medium_value_payments   331.2098628537912          Good  \n",
       "3    Low_spent_Small_value_payments  223.45130972736786          Good  \n",
       "4  High_spent_Medium_value_payments  341.48923103222177          Good  \n",
       "\n",
       "[5 rows x 24 columns]"
      ]
     },
     "execution_count": 84,
     "metadata": {},
     "output_type": "execute_result"
    }
   ],
   "source": [
    "df.head()"
   ]
  },
  {
   "cell_type": "code",
   "execution_count": 85,
   "id": "60b61aa3",
   "metadata": {
    "execution": {
     "iopub.execute_input": "2024-08-06T04:48:38.922494Z",
     "iopub.status.busy": "2024-08-06T04:48:38.922100Z",
     "iopub.status.idle": "2024-08-06T04:48:38.929787Z",
     "shell.execute_reply": "2024-08-06T04:48:38.928492Z"
    },
    "papermill": {
     "duration": 0.03499,
     "end_time": "2024-08-06T04:48:38.932529",
     "exception": false,
     "start_time": "2024-08-06T04:48:38.897539",
     "status": "completed"
    },
    "tags": []
   },
   "outputs": [],
   "source": [
    "def replace_special_character(text):\n",
    "        if \"NM\" in str(text):\n",
    "            return \"No\"\n",
    "\n",
    "        if \"payments\" in str(text) or \"_\" not in str(text):\n",
    "            return text\n",
    "\n",
    "        clean_text = str(text).replace(\"_\", \"\")\n",
    "        try:\n",
    "            clean_text = pd.to_numeric(clean_text)\n",
    "        except ValueError as e:\n",
    "            clean_text = np.nan\n",
    "        return np.nan if clean_text == \"nan\" or clean_text == \"\" else clean_text"
   ]
  },
  {
   "cell_type": "code",
   "execution_count": 86,
   "id": "d7b0716a",
   "metadata": {
    "execution": {
     "iopub.execute_input": "2024-08-06T04:48:38.979859Z",
     "iopub.status.busy": "2024-08-06T04:48:38.978713Z",
     "iopub.status.idle": "2024-08-06T04:48:40.931405Z",
     "shell.execute_reply": "2024-08-06T04:48:40.930316Z"
    },
    "papermill": {
     "duration": 1.979931,
     "end_time": "2024-08-06T04:48:40.934595",
     "exception": false,
     "start_time": "2024-08-06T04:48:38.954664",
     "status": "completed"
    },
    "tags": []
   },
   "outputs": [],
   "source": [
    "df['Age'] = pd.to_numeric(df['Age'].apply(replace_special_character))\n",
    "df['Annual_Income'] = pd.to_numeric(df['Annual_Income'].apply(replace_special_character))\n",
    "df['Changed_Credit_Limit'] = pd.to_numeric(df['Changed_Credit_Limit'].apply(replace_special_character))\n",
    "df['Outstanding_Debt'] = pd.to_numeric(df['Outstanding_Debt'].apply(replace_special_character))\n",
    "df['Num_of_Delayed_Payment'] = pd.to_numeric(df['Num_of_Delayed_Payment'].apply(replace_special_character))\n",
    "df['Amount_invested_monthly'] = pd.to_numeric(df['Amount_invested_monthly'].apply(replace_special_character))\n",
    "df['Monthly_Balance'] =  pd.to_numeric(df['Monthly_Balance'].apply(replace_special_character))\n",
    "df['Num_of_Loan'] =  pd.to_numeric(df['Num_of_Loan'].apply(replace_special_character))"
   ]
  },
  {
   "cell_type": "code",
   "execution_count": 87,
   "id": "cf63e6c8",
   "metadata": {
    "execution": {
     "iopub.execute_input": "2024-08-06T04:48:40.983566Z",
     "iopub.status.busy": "2024-08-06T04:48:40.983141Z",
     "iopub.status.idle": "2024-08-06T04:48:46.456097Z",
     "shell.execute_reply": "2024-08-06T04:48:46.454887Z"
    },
    "papermill": {
     "duration": 5.500094,
     "end_time": "2024-08-06T04:48:46.459010",
     "exception": false,
     "start_time": "2024-08-06T04:48:40.958916",
     "status": "completed"
    },
    "tags": []
   },
   "outputs": [],
   "source": [
    "def remove_outliers(x,f):\n",
    "    try:\n",
    "        # Convert to numeric\n",
    "        x = pd.to_numeric(x, errors='raise')\n",
    "        \n",
    "        # Handle negative values\n",
    "        if x < 0:\n",
    "            return np.nan\n",
    "        else:\n",
    "            if f == 'age':\n",
    "                if x>=100:\n",
    "                    return np.nan\n",
    "                else:\n",
    "                    return x\n",
    "            else:\n",
    "                return x\n",
    "    except ValueError:\n",
    "        return np.nan\n",
    "\n",
    "df['Age'] = df.apply(lambda x: remove_outliers(x['Age'], 'age'), axis=1)\n",
    "df['Num_of_Delayed_Payment'] = df.apply(lambda x: remove_outliers(x['Num_of_Delayed_Payment'], 'none'), axis=1)\n",
    "df['Num_of_Loan'] = df.apply(lambda x: remove_outliers(x['Num_of_Loan'], 'none'), axis=1)"
   ]
  },
  {
   "cell_type": "code",
   "execution_count": 88,
   "id": "97b01cd2",
   "metadata": {
    "execution": {
     "iopub.execute_input": "2024-08-06T04:48:46.505673Z",
     "iopub.status.busy": "2024-08-06T04:48:46.505262Z",
     "iopub.status.idle": "2024-08-06T04:48:46.554003Z",
     "shell.execute_reply": "2024-08-06T04:48:46.552825Z"
    },
    "papermill": {
     "duration": 0.0758,
     "end_time": "2024-08-06T04:48:46.557110",
     "exception": false,
     "start_time": "2024-08-06T04:48:46.481310",
     "status": "completed"
    },
    "tags": []
   },
   "outputs": [],
   "source": [
    "df['Annual_Income'].fillna(df['Annual_Income'].median())\n",
    "df['Changed_Credit_Limit'].fillna(df['Changed_Credit_Limit'].median())\n",
    "df['Outstanding_Debt'].fillna(df['Outstanding_Debt'].median())\n",
    "df['Monthly_Inhand_Salary'].fillna(df['Monthly_Inhand_Salary'].median())\n",
    "df['Num_of_Delayed_Payment'].fillna(df['Num_of_Delayed_Payment'].median())\n",
    "df['Num_Credit_Inquiries'].fillna(df['Num_Credit_Inquiries'].median())\n",
    "df['Amount_invested_monthly'].fillna(df['Amount_invested_monthly'].median())\n",
    "df['Monthly_Balance'].fillna(df['Monthly_Balance'].median())\n",
    "df = df.dropna(subset=['Num_of_Loan'])"
   ]
  },
  {
   "cell_type": "code",
   "execution_count": 89,
   "id": "6366ae5f",
   "metadata": {
    "execution": {
     "iopub.execute_input": "2024-08-06T04:48:46.603776Z",
     "iopub.status.busy": "2024-08-06T04:48:46.603350Z",
     "iopub.status.idle": "2024-08-06T04:48:46.641258Z",
     "shell.execute_reply": "2024-08-06T04:48:46.640158Z"
    },
    "papermill": {
     "duration": 0.064423,
     "end_time": "2024-08-06T04:48:46.644108",
     "exception": false,
     "start_time": "2024-08-06T04:48:46.579685",
     "status": "completed"
    },
    "tags": []
   },
   "outputs": [],
   "source": [
    "df = df.dropna(subset=['Type_of_Loan'])"
   ]
  },
  {
   "cell_type": "code",
   "execution_count": 90,
   "id": "ca27ab0d",
   "metadata": {
    "execution": {
     "iopub.execute_input": "2024-08-06T04:48:46.690590Z",
     "iopub.status.busy": "2024-08-06T04:48:46.689587Z",
     "iopub.status.idle": "2024-08-06T04:48:47.734698Z",
     "shell.execute_reply": "2024-08-06T04:48:47.733614Z"
    },
    "papermill": {
     "duration": 1.071438,
     "end_time": "2024-08-06T04:48:47.737637",
     "exception": false,
     "start_time": "2024-08-06T04:48:46.666199",
     "status": "completed"
    },
    "tags": []
   },
   "outputs": [],
   "source": [
    "Type_of_Loan=df['Type_of_Loan'].str.split(',\\s*and\\s*|\\s*,\\s*')\n",
    "Type_of_Loan = Type_of_Loan.explode()\n",
    "loan_type_label = Type_of_Loan.unique()"
   ]
  },
  {
   "cell_type": "code",
   "execution_count": 91,
   "id": "da0d6f16",
   "metadata": {
    "execution": {
     "iopub.execute_input": "2024-08-06T04:48:47.783701Z",
     "iopub.status.busy": "2024-08-06T04:48:47.783272Z",
     "iopub.status.idle": "2024-08-06T04:48:47.788873Z",
     "shell.execute_reply": "2024-08-06T04:48:47.787744Z"
    },
    "papermill": {
     "duration": 0.031508,
     "end_time": "2024-08-06T04:48:47.791432",
     "exception": false,
     "start_time": "2024-08-06T04:48:47.759924",
     "status": "completed"
    },
    "tags": []
   },
   "outputs": [],
   "source": [
    "def replace_and(text):\n",
    "        clean_text = str(text).replace(\" and\", \"\")\n",
    "        return np.nan if clean_text == \"nan\" else clean_text"
   ]
  },
  {
   "cell_type": "code",
   "execution_count": 92,
   "id": "5eb945e4",
   "metadata": {
    "execution": {
     "iopub.execute_input": "2024-08-06T04:48:47.837890Z",
     "iopub.status.busy": "2024-08-06T04:48:47.837465Z",
     "iopub.status.idle": "2024-08-06T04:48:48.903416Z",
     "shell.execute_reply": "2024-08-06T04:48:48.902287Z"
    },
    "papermill": {
     "duration": 1.092323,
     "end_time": "2024-08-06T04:48:48.906293",
     "exception": false,
     "start_time": "2024-08-06T04:48:47.813970",
     "status": "completed"
    },
    "tags": []
   },
   "outputs": [],
   "source": [
    "df['Type_of_Loan'] = df['Type_of_Loan'].apply(replace_and)\n",
    "for loan_type in loan_type_label:\n",
    "    df['Count_' + loan_type] = df['Type_of_Loan'].apply(lambda x: x.split(', ').count(loan_type))"
   ]
  },
  {
   "cell_type": "code",
   "execution_count": 93,
   "id": "77241865",
   "metadata": {
    "execution": {
     "iopub.execute_input": "2024-08-06T04:48:48.952040Z",
     "iopub.status.busy": "2024-08-06T04:48:48.951660Z",
     "iopub.status.idle": "2024-08-06T04:48:48.983375Z",
     "shell.execute_reply": "2024-08-06T04:48:48.982243Z"
    },
    "papermill": {
     "duration": 0.057895,
     "end_time": "2024-08-06T04:48:48.986195",
     "exception": false,
     "start_time": "2024-08-06T04:48:48.928300",
     "status": "completed"
    },
    "tags": []
   },
   "outputs": [],
   "source": [
    "df.drop(['Num_of_Loan'], axis=1, inplace=True, errors=\"ignore\")"
   ]
  },
  {
   "cell_type": "code",
   "execution_count": 94,
   "id": "7d56cd44",
   "metadata": {
    "execution": {
     "iopub.execute_input": "2024-08-06T04:48:49.032342Z",
     "iopub.status.busy": "2024-08-06T04:48:49.031907Z",
     "iopub.status.idle": "2024-08-06T04:48:49.081207Z",
     "shell.execute_reply": "2024-08-06T04:48:49.079878Z"
    },
    "papermill": {
     "duration": 0.075486,
     "end_time": "2024-08-06T04:48:49.083785",
     "exception": false,
     "start_time": "2024-08-06T04:48:49.008299",
     "status": "completed"
    },
    "tags": []
   },
   "outputs": [
    {
     "data": {
      "text/html": [
       "<div>\n",
       "<style scoped>\n",
       "    .dataframe tbody tr th:only-of-type {\n",
       "        vertical-align: middle;\n",
       "    }\n",
       "\n",
       "    .dataframe tbody tr th {\n",
       "        vertical-align: top;\n",
       "    }\n",
       "\n",
       "    .dataframe thead th {\n",
       "        text-align: right;\n",
       "    }\n",
       "</style>\n",
       "<table border=\"1\" class=\"dataframe\">\n",
       "  <thead>\n",
       "    <tr style=\"text-align: right;\">\n",
       "      <th></th>\n",
       "      <th>Month</th>\n",
       "      <th>Age</th>\n",
       "      <th>Occupation</th>\n",
       "      <th>Annual_Income</th>\n",
       "      <th>Monthly_Inhand_Salary</th>\n",
       "      <th>Num_Bank_Accounts</th>\n",
       "      <th>Num_Credit_Card</th>\n",
       "      <th>Interest_Rate</th>\n",
       "      <th>Type_of_Loan</th>\n",
       "      <th>Delay_from_due_date</th>\n",
       "      <th>...</th>\n",
       "      <th>Credit_Score</th>\n",
       "      <th>Count_Auto Loan</th>\n",
       "      <th>Count_Credit-Builder Loan</th>\n",
       "      <th>Count_Personal Loan</th>\n",
       "      <th>Count_Home Equity Loan</th>\n",
       "      <th>Count_Not Specified</th>\n",
       "      <th>Count_Mortgage Loan</th>\n",
       "      <th>Count_Student Loan</th>\n",
       "      <th>Count_Debt Consolidation Loan</th>\n",
       "      <th>Count_Payday Loan</th>\n",
       "    </tr>\n",
       "  </thead>\n",
       "  <tbody>\n",
       "    <tr>\n",
       "      <th>912</th>\n",
       "      <td>January</td>\n",
       "      <td>39.0</td>\n",
       "      <td>Manager</td>\n",
       "      <td>30536.62</td>\n",
       "      <td>2430.718333</td>\n",
       "      <td>6</td>\n",
       "      <td>6</td>\n",
       "      <td>7</td>\n",
       "      <td>Auto Loan, Auto Loan</td>\n",
       "      <td>19</td>\n",
       "      <td>...</td>\n",
       "      <td>Standard</td>\n",
       "      <td>2</td>\n",
       "      <td>0</td>\n",
       "      <td>0</td>\n",
       "      <td>0</td>\n",
       "      <td>0</td>\n",
       "      <td>0</td>\n",
       "      <td>0</td>\n",
       "      <td>0</td>\n",
       "      <td>0</td>\n",
       "    </tr>\n",
       "    <tr>\n",
       "      <th>913</th>\n",
       "      <td>February</td>\n",
       "      <td>39.0</td>\n",
       "      <td>Manager</td>\n",
       "      <td>30536.62</td>\n",
       "      <td>2430.718333</td>\n",
       "      <td>6</td>\n",
       "      <td>6</td>\n",
       "      <td>7</td>\n",
       "      <td>Auto Loan, Auto Loan</td>\n",
       "      <td>19</td>\n",
       "      <td>...</td>\n",
       "      <td>Standard</td>\n",
       "      <td>2</td>\n",
       "      <td>0</td>\n",
       "      <td>0</td>\n",
       "      <td>0</td>\n",
       "      <td>0</td>\n",
       "      <td>0</td>\n",
       "      <td>0</td>\n",
       "      <td>0</td>\n",
       "      <td>0</td>\n",
       "    </tr>\n",
       "    <tr>\n",
       "      <th>914</th>\n",
       "      <td>March</td>\n",
       "      <td>39.0</td>\n",
       "      <td>Manager</td>\n",
       "      <td>30536.62</td>\n",
       "      <td>2430.718333</td>\n",
       "      <td>6</td>\n",
       "      <td>6</td>\n",
       "      <td>7</td>\n",
       "      <td>Auto Loan, Auto Loan</td>\n",
       "      <td>19</td>\n",
       "      <td>...</td>\n",
       "      <td>Standard</td>\n",
       "      <td>2</td>\n",
       "      <td>0</td>\n",
       "      <td>0</td>\n",
       "      <td>0</td>\n",
       "      <td>0</td>\n",
       "      <td>0</td>\n",
       "      <td>0</td>\n",
       "      <td>0</td>\n",
       "      <td>0</td>\n",
       "    </tr>\n",
       "    <tr>\n",
       "      <th>915</th>\n",
       "      <td>April</td>\n",
       "      <td>39.0</td>\n",
       "      <td>_______</td>\n",
       "      <td>30536.62</td>\n",
       "      <td>NaN</td>\n",
       "      <td>6</td>\n",
       "      <td>6</td>\n",
       "      <td>7</td>\n",
       "      <td>Auto Loan, Auto Loan</td>\n",
       "      <td>19</td>\n",
       "      <td>...</td>\n",
       "      <td>Standard</td>\n",
       "      <td>2</td>\n",
       "      <td>0</td>\n",
       "      <td>0</td>\n",
       "      <td>0</td>\n",
       "      <td>0</td>\n",
       "      <td>0</td>\n",
       "      <td>0</td>\n",
       "      <td>0</td>\n",
       "      <td>0</td>\n",
       "    </tr>\n",
       "    <tr>\n",
       "      <th>916</th>\n",
       "      <td>May</td>\n",
       "      <td>39.0</td>\n",
       "      <td>Manager</td>\n",
       "      <td>30536.62</td>\n",
       "      <td>2430.718333</td>\n",
       "      <td>6</td>\n",
       "      <td>6</td>\n",
       "      <td>7</td>\n",
       "      <td>Auto Loan, Auto Loan</td>\n",
       "      <td>19</td>\n",
       "      <td>...</td>\n",
       "      <td>Poor</td>\n",
       "      <td>2</td>\n",
       "      <td>0</td>\n",
       "      <td>0</td>\n",
       "      <td>0</td>\n",
       "      <td>0</td>\n",
       "      <td>0</td>\n",
       "      <td>0</td>\n",
       "      <td>0</td>\n",
       "      <td>0</td>\n",
       "    </tr>\n",
       "    <tr>\n",
       "      <th>...</th>\n",
       "      <td>...</td>\n",
       "      <td>...</td>\n",
       "      <td>...</td>\n",
       "      <td>...</td>\n",
       "      <td>...</td>\n",
       "      <td>...</td>\n",
       "      <td>...</td>\n",
       "      <td>...</td>\n",
       "      <td>...</td>\n",
       "      <td>...</td>\n",
       "      <td>...</td>\n",
       "      <td>...</td>\n",
       "      <td>...</td>\n",
       "      <td>...</td>\n",
       "      <td>...</td>\n",
       "      <td>...</td>\n",
       "      <td>...</td>\n",
       "      <td>...</td>\n",
       "      <td>...</td>\n",
       "      <td>...</td>\n",
       "      <td>...</td>\n",
       "    </tr>\n",
       "    <tr>\n",
       "      <th>89874</th>\n",
       "      <td>March</td>\n",
       "      <td>26.0</td>\n",
       "      <td>Scientist</td>\n",
       "      <td>53878.98</td>\n",
       "      <td>4328.915000</td>\n",
       "      <td>4</td>\n",
       "      <td>3</td>\n",
       "      <td>5</td>\n",
       "      <td>Auto Loan, Auto Loan</td>\n",
       "      <td>11</td>\n",
       "      <td>...</td>\n",
       "      <td>Good</td>\n",
       "      <td>2</td>\n",
       "      <td>0</td>\n",
       "      <td>0</td>\n",
       "      <td>0</td>\n",
       "      <td>0</td>\n",
       "      <td>0</td>\n",
       "      <td>0</td>\n",
       "      <td>0</td>\n",
       "      <td>0</td>\n",
       "    </tr>\n",
       "    <tr>\n",
       "      <th>89875</th>\n",
       "      <td>April</td>\n",
       "      <td>26.0</td>\n",
       "      <td>Scientist</td>\n",
       "      <td>53878.98</td>\n",
       "      <td>NaN</td>\n",
       "      <td>4</td>\n",
       "      <td>3</td>\n",
       "      <td>5</td>\n",
       "      <td>Auto Loan, Auto Loan</td>\n",
       "      <td>11</td>\n",
       "      <td>...</td>\n",
       "      <td>Standard</td>\n",
       "      <td>2</td>\n",
       "      <td>0</td>\n",
       "      <td>0</td>\n",
       "      <td>0</td>\n",
       "      <td>0</td>\n",
       "      <td>0</td>\n",
       "      <td>0</td>\n",
       "      <td>0</td>\n",
       "      <td>0</td>\n",
       "    </tr>\n",
       "    <tr>\n",
       "      <th>89876</th>\n",
       "      <td>May</td>\n",
       "      <td>26.0</td>\n",
       "      <td>Scientist</td>\n",
       "      <td>53878.98</td>\n",
       "      <td>4328.915000</td>\n",
       "      <td>4</td>\n",
       "      <td>3</td>\n",
       "      <td>5</td>\n",
       "      <td>Auto Loan, Auto Loan</td>\n",
       "      <td>11</td>\n",
       "      <td>...</td>\n",
       "      <td>Standard</td>\n",
       "      <td>2</td>\n",
       "      <td>0</td>\n",
       "      <td>0</td>\n",
       "      <td>0</td>\n",
       "      <td>0</td>\n",
       "      <td>0</td>\n",
       "      <td>0</td>\n",
       "      <td>0</td>\n",
       "      <td>0</td>\n",
       "    </tr>\n",
       "    <tr>\n",
       "      <th>89877</th>\n",
       "      <td>June</td>\n",
       "      <td>26.0</td>\n",
       "      <td>_______</td>\n",
       "      <td>53878.98</td>\n",
       "      <td>4328.915000</td>\n",
       "      <td>4</td>\n",
       "      <td>3</td>\n",
       "      <td>5</td>\n",
       "      <td>Auto Loan, Auto Loan</td>\n",
       "      <td>11</td>\n",
       "      <td>...</td>\n",
       "      <td>Standard</td>\n",
       "      <td>2</td>\n",
       "      <td>0</td>\n",
       "      <td>0</td>\n",
       "      <td>0</td>\n",
       "      <td>0</td>\n",
       "      <td>0</td>\n",
       "      <td>0</td>\n",
       "      <td>0</td>\n",
       "      <td>0</td>\n",
       "    </tr>\n",
       "    <tr>\n",
       "      <th>89878</th>\n",
       "      <td>July</td>\n",
       "      <td>26.0</td>\n",
       "      <td>Scientist</td>\n",
       "      <td>53878.98</td>\n",
       "      <td>4328.915000</td>\n",
       "      <td>4</td>\n",
       "      <td>3</td>\n",
       "      <td>5</td>\n",
       "      <td>Auto Loan, Auto Loan</td>\n",
       "      <td>11</td>\n",
       "      <td>...</td>\n",
       "      <td>Standard</td>\n",
       "      <td>2</td>\n",
       "      <td>0</td>\n",
       "      <td>0</td>\n",
       "      <td>0</td>\n",
       "      <td>0</td>\n",
       "      <td>0</td>\n",
       "      <td>0</td>\n",
       "      <td>0</td>\n",
       "      <td>0</td>\n",
       "    </tr>\n",
       "  </tbody>\n",
       "</table>\n",
       "<p>144 rows × 32 columns</p>\n",
       "</div>"
      ],
      "text/plain": [
       "          Month   Age Occupation  Annual_Income  Monthly_Inhand_Salary   \n",
       "912     January  39.0    Manager       30536.62            2430.718333  \\\n",
       "913    February  39.0    Manager       30536.62            2430.718333   \n",
       "914       March  39.0    Manager       30536.62            2430.718333   \n",
       "915       April  39.0    _______       30536.62                    NaN   \n",
       "916         May  39.0    Manager       30536.62            2430.718333   \n",
       "...         ...   ...        ...            ...                    ...   \n",
       "89874     March  26.0  Scientist       53878.98            4328.915000   \n",
       "89875     April  26.0  Scientist       53878.98                    NaN   \n",
       "89876       May  26.0  Scientist       53878.98            4328.915000   \n",
       "89877      June  26.0    _______       53878.98            4328.915000   \n",
       "89878      July  26.0  Scientist       53878.98            4328.915000   \n",
       "\n",
       "       Num_Bank_Accounts  Num_Credit_Card  Interest_Rate   \n",
       "912                    6                6              7  \\\n",
       "913                    6                6              7   \n",
       "914                    6                6              7   \n",
       "915                    6                6              7   \n",
       "916                    6                6              7   \n",
       "...                  ...              ...            ...   \n",
       "89874                  4                3              5   \n",
       "89875                  4                3              5   \n",
       "89876                  4                3              5   \n",
       "89877                  4                3              5   \n",
       "89878                  4                3              5   \n",
       "\n",
       "               Type_of_Loan  Delay_from_due_date  ...  Credit_Score   \n",
       "912    Auto Loan, Auto Loan                   19  ...      Standard  \\\n",
       "913    Auto Loan, Auto Loan                   19  ...      Standard   \n",
       "914    Auto Loan, Auto Loan                   19  ...      Standard   \n",
       "915    Auto Loan, Auto Loan                   19  ...      Standard   \n",
       "916    Auto Loan, Auto Loan                   19  ...          Poor   \n",
       "...                     ...                  ...  ...           ...   \n",
       "89874  Auto Loan, Auto Loan                   11  ...          Good   \n",
       "89875  Auto Loan, Auto Loan                   11  ...      Standard   \n",
       "89876  Auto Loan, Auto Loan                   11  ...      Standard   \n",
       "89877  Auto Loan, Auto Loan                   11  ...      Standard   \n",
       "89878  Auto Loan, Auto Loan                   11  ...      Standard   \n",
       "\n",
       "       Count_Auto Loan  Count_Credit-Builder Loan Count_Personal Loan   \n",
       "912                  2                          0                   0  \\\n",
       "913                  2                          0                   0   \n",
       "914                  2                          0                   0   \n",
       "915                  2                          0                   0   \n",
       "916                  2                          0                   0   \n",
       "...                ...                        ...                 ...   \n",
       "89874                2                          0                   0   \n",
       "89875                2                          0                   0   \n",
       "89876                2                          0                   0   \n",
       "89877                2                          0                   0   \n",
       "89878                2                          0                   0   \n",
       "\n",
       "       Count_Home Equity Loan  Count_Not Specified  Count_Mortgage Loan   \n",
       "912                         0                    0                    0  \\\n",
       "913                         0                    0                    0   \n",
       "914                         0                    0                    0   \n",
       "915                         0                    0                    0   \n",
       "916                         0                    0                    0   \n",
       "...                       ...                  ...                  ...   \n",
       "89874                       0                    0                    0   \n",
       "89875                       0                    0                    0   \n",
       "89876                       0                    0                    0   \n",
       "89877                       0                    0                    0   \n",
       "89878                       0                    0                    0   \n",
       "\n",
       "      Count_Student Loan  Count_Debt Consolidation Loan  Count_Payday Loan  \n",
       "912                    0                              0                  0  \n",
       "913                    0                              0                  0  \n",
       "914                    0                              0                  0  \n",
       "915                    0                              0                  0  \n",
       "916                    0                              0                  0  \n",
       "...                  ...                            ...                ...  \n",
       "89874                  0                              0                  0  \n",
       "89875                  0                              0                  0  \n",
       "89876                  0                              0                  0  \n",
       "89877                  0                              0                  0  \n",
       "89878                  0                              0                  0  \n",
       "\n",
       "[144 rows x 32 columns]"
      ]
     },
     "execution_count": 94,
     "metadata": {},
     "output_type": "execute_result"
    }
   ],
   "source": [
    "#Checking the value in count type of loan\n",
    "df.loc[df['Type_of_Loan'] == 'Auto Loan, Auto Loan']"
   ]
  },
  {
   "cell_type": "code",
   "execution_count": 95,
   "id": "3e8ff4ba",
   "metadata": {
    "execution": {
     "iopub.execute_input": "2024-08-06T04:48:49.198253Z",
     "iopub.status.busy": "2024-08-06T04:48:49.197845Z",
     "iopub.status.idle": "2024-08-06T04:48:49.221635Z",
     "shell.execute_reply": "2024-08-06T04:48:49.220457Z"
    },
    "papermill": {
     "duration": 0.117812,
     "end_time": "2024-08-06T04:48:49.224495",
     "exception": false,
     "start_time": "2024-08-06T04:48:49.106683",
     "status": "completed"
    },
    "tags": []
   },
   "outputs": [],
   "source": [
    "df.drop([\"Type_of_Loan\"], axis=1, inplace=True, errors=\"ignore\")"
   ]
  },
  {
   "cell_type": "code",
   "execution_count": 96,
   "id": "e857131b",
   "metadata": {
    "execution": {
     "iopub.execute_input": "2024-08-06T04:48:49.271780Z",
     "iopub.status.busy": "2024-08-06T04:48:49.271325Z",
     "iopub.status.idle": "2024-08-06T04:48:49.358198Z",
     "shell.execute_reply": "2024-08-06T04:48:49.356929Z"
    },
    "papermill": {
     "duration": 0.113725,
     "end_time": "2024-08-06T04:48:49.361027",
     "exception": false,
     "start_time": "2024-08-06T04:48:49.247302",
     "status": "completed"
    },
    "tags": []
   },
   "outputs": [],
   "source": [
    "df.dropna(inplace=True)\n",
    "df[\"Age\"] = pd.to_numeric(df[\"Age\"])\n",
    "df[\"Annual_Income\"] = pd.to_numeric(df[\"Annual_Income\"])\n",
    "df[\"Num_of_Delayed_Payment\"] = pd.to_numeric(df[\"Num_of_Delayed_Payment\"])\n",
    "df[\"Changed_Credit_Limit\"] = pd.to_numeric(df[\"Changed_Credit_Limit\"])\n",
    "df[\"Outstanding_Debt\"] = pd.to_numeric(df[\"Outstanding_Debt\"])\n",
    "df[\"Amount_invested_monthly\"] = pd.to_numeric(df[\"Amount_invested_monthly\"])\n",
    "df[\"Monthly_Balance\"] = pd.to_numeric(df[\"Monthly_Balance\"])"
   ]
  },
  {
   "cell_type": "code",
   "execution_count": 97,
   "id": "f2087cb1",
   "metadata": {
    "execution": {
     "iopub.execute_input": "2024-08-06T04:48:49.409059Z",
     "iopub.status.busy": "2024-08-06T04:48:49.408616Z",
     "iopub.status.idle": "2024-08-06T04:48:49.436392Z",
     "shell.execute_reply": "2024-08-06T04:48:49.435270Z"
    },
    "papermill": {
     "duration": 0.054361,
     "end_time": "2024-08-06T04:48:49.439019",
     "exception": false,
     "start_time": "2024-08-06T04:48:49.384658",
     "status": "completed"
    },
    "tags": []
   },
   "outputs": [
    {
     "data": {
      "text/html": [
       "<div>\n",
       "<style scoped>\n",
       "    .dataframe tbody tr th:only-of-type {\n",
       "        vertical-align: middle;\n",
       "    }\n",
       "\n",
       "    .dataframe tbody tr th {\n",
       "        vertical-align: top;\n",
       "    }\n",
       "\n",
       "    .dataframe thead th {\n",
       "        text-align: right;\n",
       "    }\n",
       "</style>\n",
       "<table border=\"1\" class=\"dataframe\">\n",
       "  <thead>\n",
       "    <tr style=\"text-align: right;\">\n",
       "      <th></th>\n",
       "      <th>Month</th>\n",
       "      <th>Age</th>\n",
       "      <th>Occupation</th>\n",
       "      <th>Annual_Income</th>\n",
       "      <th>Monthly_Inhand_Salary</th>\n",
       "      <th>Num_Bank_Accounts</th>\n",
       "      <th>Num_Credit_Card</th>\n",
       "      <th>Interest_Rate</th>\n",
       "      <th>Delay_from_due_date</th>\n",
       "      <th>Num_of_Delayed_Payment</th>\n",
       "      <th>...</th>\n",
       "      <th>Credit_Score</th>\n",
       "      <th>Count_Auto Loan</th>\n",
       "      <th>Count_Credit-Builder Loan</th>\n",
       "      <th>Count_Personal Loan</th>\n",
       "      <th>Count_Home Equity Loan</th>\n",
       "      <th>Count_Not Specified</th>\n",
       "      <th>Count_Mortgage Loan</th>\n",
       "      <th>Count_Student Loan</th>\n",
       "      <th>Count_Debt Consolidation Loan</th>\n",
       "      <th>Count_Payday Loan</th>\n",
       "    </tr>\n",
       "  </thead>\n",
       "  <tbody>\n",
       "    <tr>\n",
       "      <th>0</th>\n",
       "      <td>January</td>\n",
       "      <td>23.0</td>\n",
       "      <td>Scientist</td>\n",
       "      <td>19114.12</td>\n",
       "      <td>1824.843333</td>\n",
       "      <td>3</td>\n",
       "      <td>4</td>\n",
       "      <td>3</td>\n",
       "      <td>3</td>\n",
       "      <td>7.0</td>\n",
       "      <td>...</td>\n",
       "      <td>Good</td>\n",
       "      <td>1</td>\n",
       "      <td>1</td>\n",
       "      <td>1</td>\n",
       "      <td>1</td>\n",
       "      <td>0</td>\n",
       "      <td>0</td>\n",
       "      <td>0</td>\n",
       "      <td>0</td>\n",
       "      <td>0</td>\n",
       "    </tr>\n",
       "    <tr>\n",
       "      <th>6</th>\n",
       "      <td>July</td>\n",
       "      <td>23.0</td>\n",
       "      <td>Scientist</td>\n",
       "      <td>19114.12</td>\n",
       "      <td>1824.843333</td>\n",
       "      <td>3</td>\n",
       "      <td>4</td>\n",
       "      <td>3</td>\n",
       "      <td>3</td>\n",
       "      <td>8.0</td>\n",
       "      <td>...</td>\n",
       "      <td>Good</td>\n",
       "      <td>1</td>\n",
       "      <td>1</td>\n",
       "      <td>1</td>\n",
       "      <td>1</td>\n",
       "      <td>0</td>\n",
       "      <td>0</td>\n",
       "      <td>0</td>\n",
       "      <td>0</td>\n",
       "      <td>0</td>\n",
       "    </tr>\n",
       "    <tr>\n",
       "      <th>7</th>\n",
       "      <td>August</td>\n",
       "      <td>23.0</td>\n",
       "      <td>Scientist</td>\n",
       "      <td>19114.12</td>\n",
       "      <td>1824.843333</td>\n",
       "      <td>3</td>\n",
       "      <td>4</td>\n",
       "      <td>3</td>\n",
       "      <td>3</td>\n",
       "      <td>6.0</td>\n",
       "      <td>...</td>\n",
       "      <td>Standard</td>\n",
       "      <td>1</td>\n",
       "      <td>1</td>\n",
       "      <td>1</td>\n",
       "      <td>1</td>\n",
       "      <td>0</td>\n",
       "      <td>0</td>\n",
       "      <td>0</td>\n",
       "      <td>0</td>\n",
       "      <td>0</td>\n",
       "    </tr>\n",
       "    <tr>\n",
       "      <th>8</th>\n",
       "      <td>January</td>\n",
       "      <td>28.0</td>\n",
       "      <td>_______</td>\n",
       "      <td>34847.84</td>\n",
       "      <td>3037.986667</td>\n",
       "      <td>2</td>\n",
       "      <td>4</td>\n",
       "      <td>6</td>\n",
       "      <td>3</td>\n",
       "      <td>4.0</td>\n",
       "      <td>...</td>\n",
       "      <td>Standard</td>\n",
       "      <td>0</td>\n",
       "      <td>1</td>\n",
       "      <td>0</td>\n",
       "      <td>0</td>\n",
       "      <td>0</td>\n",
       "      <td>0</td>\n",
       "      <td>0</td>\n",
       "      <td>0</td>\n",
       "      <td>0</td>\n",
       "    </tr>\n",
       "    <tr>\n",
       "      <th>9</th>\n",
       "      <td>February</td>\n",
       "      <td>28.0</td>\n",
       "      <td>Teacher</td>\n",
       "      <td>34847.84</td>\n",
       "      <td>3037.986667</td>\n",
       "      <td>2</td>\n",
       "      <td>4</td>\n",
       "      <td>6</td>\n",
       "      <td>7</td>\n",
       "      <td>1.0</td>\n",
       "      <td>...</td>\n",
       "      <td>Good</td>\n",
       "      <td>0</td>\n",
       "      <td>1</td>\n",
       "      <td>0</td>\n",
       "      <td>0</td>\n",
       "      <td>0</td>\n",
       "      <td>0</td>\n",
       "      <td>0</td>\n",
       "      <td>0</td>\n",
       "      <td>0</td>\n",
       "    </tr>\n",
       "  </tbody>\n",
       "</table>\n",
       "<p>5 rows × 31 columns</p>\n",
       "</div>"
      ],
      "text/plain": [
       "      Month   Age Occupation  Annual_Income  Monthly_Inhand_Salary   \n",
       "0   January  23.0  Scientist       19114.12            1824.843333  \\\n",
       "6      July  23.0  Scientist       19114.12            1824.843333   \n",
       "7    August  23.0  Scientist       19114.12            1824.843333   \n",
       "8   January  28.0    _______       34847.84            3037.986667   \n",
       "9  February  28.0    Teacher       34847.84            3037.986667   \n",
       "\n",
       "   Num_Bank_Accounts  Num_Credit_Card  Interest_Rate  Delay_from_due_date   \n",
       "0                  3                4              3                    3  \\\n",
       "6                  3                4              3                    3   \n",
       "7                  3                4              3                    3   \n",
       "8                  2                4              6                    3   \n",
       "9                  2                4              6                    7   \n",
       "\n",
       "   Num_of_Delayed_Payment  ...  Credit_Score  Count_Auto Loan   \n",
       "0                     7.0  ...          Good                1  \\\n",
       "6                     8.0  ...          Good                1   \n",
       "7                     6.0  ...      Standard                1   \n",
       "8                     4.0  ...      Standard                0   \n",
       "9                     1.0  ...          Good                0   \n",
       "\n",
       "  Count_Credit-Builder Loan  Count_Personal Loan  Count_Home Equity Loan   \n",
       "0                         1                    1                       1  \\\n",
       "6                         1                    1                       1   \n",
       "7                         1                    1                       1   \n",
       "8                         1                    0                       0   \n",
       "9                         1                    0                       0   \n",
       "\n",
       "   Count_Not Specified Count_Mortgage Loan  Count_Student Loan   \n",
       "0                    0                   0                   0  \\\n",
       "6                    0                   0                   0   \n",
       "7                    0                   0                   0   \n",
       "8                    0                   0                   0   \n",
       "9                    0                   0                   0   \n",
       "\n",
       "   Count_Debt Consolidation Loan Count_Payday Loan  \n",
       "0                              0                 0  \n",
       "6                              0                 0  \n",
       "7                              0                 0  \n",
       "8                              0                 0  \n",
       "9                              0                 0  \n",
       "\n",
       "[5 rows x 31 columns]"
      ]
     },
     "execution_count": 97,
     "metadata": {},
     "output_type": "execute_result"
    }
   ],
   "source": [
    "df.head()"
   ]
  },
  {
   "cell_type": "code",
   "execution_count": 98,
   "id": "6127da37",
   "metadata": {
    "execution": {
     "iopub.execute_input": "2024-08-06T04:48:49.487993Z",
     "iopub.status.busy": "2024-08-06T04:48:49.487586Z",
     "iopub.status.idle": "2024-08-06T04:48:49.553222Z",
     "shell.execute_reply": "2024-08-06T04:48:49.551986Z"
    },
    "papermill": {
     "duration": 0.093848,
     "end_time": "2024-08-06T04:48:49.556139",
     "exception": false,
     "start_time": "2024-08-06T04:48:49.462291",
     "status": "completed"
    },
    "tags": []
   },
   "outputs": [],
   "source": [
    "df.drop(df[df['Occupation'] == '_______'].index, inplace = True)\n",
    "df.drop(df[df['Payment_of_Min_Amount'] == 'NM'].index, inplace = True)"
   ]
  },
  {
   "cell_type": "code",
   "execution_count": 99,
   "id": "9aea12ca",
   "metadata": {
    "execution": {
     "iopub.execute_input": "2024-08-06T04:48:49.605258Z",
     "iopub.status.busy": "2024-08-06T04:48:49.604813Z",
     "iopub.status.idle": "2024-08-06T04:48:49.636066Z",
     "shell.execute_reply": "2024-08-06T04:48:49.634816Z"
    },
    "papermill": {
     "duration": 0.05883,
     "end_time": "2024-08-06T04:48:49.638961",
     "exception": false,
     "start_time": "2024-08-06T04:48:49.580131",
     "status": "completed"
    },
    "tags": []
   },
   "outputs": [],
   "source": [
    "df.drop(df[df['Credit_Mix'] == '_'].index, inplace = True)"
   ]
  },
  {
   "cell_type": "code",
   "execution_count": 100,
   "id": "ebc98555",
   "metadata": {
    "execution": {
     "iopub.execute_input": "2024-08-06T04:48:49.691331Z",
     "iopub.status.busy": "2024-08-06T04:48:49.690889Z",
     "iopub.status.idle": "2024-08-06T04:48:49.718616Z",
     "shell.execute_reply": "2024-08-06T04:48:49.717295Z"
    },
    "papermill": {
     "duration": 0.055635,
     "end_time": "2024-08-06T04:48:49.721500",
     "exception": false,
     "start_time": "2024-08-06T04:48:49.665865",
     "status": "completed"
    },
    "tags": []
   },
   "outputs": [],
   "source": [
    "df.drop(df[df['Payment_Behaviour'] == '!@9#%8'].index, inplace = True)"
   ]
  },
  {
   "cell_type": "code",
   "execution_count": 101,
   "id": "bb079d1b",
   "metadata": {
    "execution": {
     "iopub.execute_input": "2024-08-06T04:48:49.770158Z",
     "iopub.status.busy": "2024-08-06T04:48:49.769740Z",
     "iopub.status.idle": "2024-08-06T04:48:49.841897Z",
     "shell.execute_reply": "2024-08-06T04:48:49.840633Z"
    },
    "papermill": {
     "duration": 0.099766,
     "end_time": "2024-08-06T04:48:49.844684",
     "exception": false,
     "start_time": "2024-08-06T04:48:49.744918",
     "status": "completed"
    },
    "tags": []
   },
   "outputs": [
    {
     "name": "stdout",
     "output_type": "stream",
     "text": [
      "Number of Rows with Missing Values:  0\n",
      "Number of Rows:  35688\n"
     ]
    }
   ],
   "source": [
    "print('Number of Rows with Missing Values: ', df.isnull().any(axis=1).sum())\n",
    "print('Number of Rows: ', df.any(axis=1).sum())"
   ]
  },
  {
   "cell_type": "code",
   "execution_count": 102,
   "id": "a5437507",
   "metadata": {
    "execution": {
     "iopub.execute_input": "2024-08-06T04:48:49.893362Z",
     "iopub.status.busy": "2024-08-06T04:48:49.892950Z",
     "iopub.status.idle": "2024-08-06T04:48:49.918296Z",
     "shell.execute_reply": "2024-08-06T04:48:49.917030Z"
    },
    "papermill": {
     "duration": 0.05288,
     "end_time": "2024-08-06T04:48:49.921000",
     "exception": false,
     "start_time": "2024-08-06T04:48:49.868120",
     "status": "completed"
    },
    "tags": []
   },
   "outputs": [
    {
     "name": "stdout",
     "output_type": "stream",
     "text": [
      "Credit Score Class Distribution\n",
      "Poor:  11139\n",
      "Standard:  18956\n",
      "Good:  5593\n"
     ]
    }
   ],
   "source": [
    "print(\"Credit Score Class Distribution\")\n",
    "print(\"Poor: \",df['Credit_Score'].value_counts()['Poor'])\n",
    "print(\"Standard: \",df['Credit_Score'].value_counts()['Standard'])\n",
    "print(\"Good: \",df['Credit_Score'].value_counts()['Good'])"
   ]
  },
  {
   "cell_type": "code",
   "execution_count": 103,
   "id": "db94f463",
   "metadata": {
    "execution": {
     "iopub.execute_input": "2024-08-06T04:48:49.969983Z",
     "iopub.status.busy": "2024-08-06T04:48:49.969502Z",
     "iopub.status.idle": "2024-08-06T04:48:50.023391Z",
     "shell.execute_reply": "2024-08-06T04:48:50.022013Z"
    },
    "papermill": {
     "duration": 0.082179,
     "end_time": "2024-08-06T04:48:50.026705",
     "exception": false,
     "start_time": "2024-08-06T04:48:49.944526",
     "status": "completed"
    },
    "tags": []
   },
   "outputs": [],
   "source": [
    "df = pd.get_dummies(df, columns=['Occupation', 'Credit_Mix','Payment_of_Min_Amount'], dtype=int)"
   ]
  },
  {
   "cell_type": "code",
   "execution_count": 104,
   "id": "a7cf082d",
   "metadata": {
    "execution": {
     "iopub.execute_input": "2024-08-06T04:48:50.076323Z",
     "iopub.status.busy": "2024-08-06T04:48:50.075866Z",
     "iopub.status.idle": "2024-08-06T04:48:50.309605Z",
     "shell.execute_reply": "2024-08-06T04:48:50.308062Z"
    },
    "papermill": {
     "duration": 0.26185,
     "end_time": "2024-08-06T04:48:50.312592",
     "exception": false,
     "start_time": "2024-08-06T04:48:50.050742",
     "status": "completed"
    },
    "tags": []
   },
   "outputs": [],
   "source": [
    "df['Spent Amount Payment_Behaviour'] = df['Payment_Behaviour'].str.extract(r'(\\w+)_spent')\n",
    "df['Value Amount Payment_Behaviour'] = df['Payment_Behaviour'].str.extract(r'_spent_(\\w+)_value')"
   ]
  },
  {
   "cell_type": "code",
   "execution_count": 105,
   "id": "d6a4216b",
   "metadata": {
    "execution": {
     "iopub.execute_input": "2024-08-06T04:48:50.361938Z",
     "iopub.status.busy": "2024-08-06T04:48:50.361486Z",
     "iopub.status.idle": "2024-08-06T04:48:50.375012Z",
     "shell.execute_reply": "2024-08-06T04:48:50.373887Z"
    },
    "papermill": {
     "duration": 0.041529,
     "end_time": "2024-08-06T04:48:50.377690",
     "exception": false,
     "start_time": "2024-08-06T04:48:50.336161",
     "status": "completed"
    },
    "tags": []
   },
   "outputs": [],
   "source": [
    "df.drop([\"Payment_Behaviour\"], axis=1, inplace=True, errors=\"ignore\")"
   ]
  },
  {
   "cell_type": "code",
   "execution_count": 106,
   "id": "28e98635",
   "metadata": {
    "execution": {
     "iopub.execute_input": "2024-08-06T04:48:50.427618Z",
     "iopub.status.busy": "2024-08-06T04:48:50.427205Z",
     "iopub.status.idle": "2024-08-06T04:48:50.461873Z",
     "shell.execute_reply": "2024-08-06T04:48:50.460481Z"
    },
    "papermill": {
     "duration": 0.062256,
     "end_time": "2024-08-06T04:48:50.464516",
     "exception": false,
     "start_time": "2024-08-06T04:48:50.402260",
     "status": "completed"
    },
    "tags": []
   },
   "outputs": [],
   "source": [
    "spent_mapping = {'Low': 0, 'High': 1}\n",
    "value_mapping = {'Small': 0, 'Medium': 1, 'Large': 2}\n",
    "month_mapping = {'January': 1,'February': 2,'March': 3,'April': 4,'May': 5,'June': 6,'July': 7,'August': 8,'September': 9,'October': 10,'November': 11,'December': 12}\n",
    "\n",
    "# Encode the categories to integers\n",
    "df['Spent Amount Payment_Behaviour'] = df['Spent Amount Payment_Behaviour'].map(spent_mapping)\n",
    "df['Value Amount Payment_Behaviour'] = df['Value Amount Payment_Behaviour'].map(value_mapping)\n",
    "df['Month'] = df['Month'].map(month_mapping)"
   ]
  },
  {
   "cell_type": "markdown",
   "id": "56c21259",
   "metadata": {
    "papermill": {
     "duration": 0.023368,
     "end_time": "2024-08-06T04:48:50.511760",
     "exception": false,
     "start_time": "2024-08-06T04:48:50.488392",
     "status": "completed"
    },
    "tags": []
   },
   "source": [
    "For giving a credit score rather than just a credit category, map the 'Good' and 'Standard' as a same label.\n"
   ]
  },
  {
   "cell_type": "code",
   "execution_count": 107,
   "id": "26e6120c",
   "metadata": {
    "execution": {
     "iopub.execute_input": "2024-08-06T04:48:50.561470Z",
     "iopub.status.busy": "2024-08-06T04:48:50.561032Z",
     "iopub.status.idle": "2024-08-06T04:48:50.570348Z",
     "shell.execute_reply": "2024-08-06T04:48:50.569244Z"
    },
    "papermill": {
     "duration": 0.037289,
     "end_time": "2024-08-06T04:48:50.573016",
     "exception": false,
     "start_time": "2024-08-06T04:48:50.535727",
     "status": "completed"
    },
    "tags": []
   },
   "outputs": [],
   "source": [
    "X = df.loc[:, df.columns != \"Credit_Score\"]\n",
    "y = df[\"Credit_Score\"]"
   ]
  },
  {
   "cell_type": "markdown",
   "id": "e1409fe4",
   "metadata": {
    "papermill": {
     "duration": 0.023234,
     "end_time": "2024-08-06T04:48:50.619971",
     "exception": false,
     "start_time": "2024-08-06T04:48:50.596737",
     "status": "completed"
    },
    "tags": []
   },
   "source": [
    "# Model\n",
    "## NGBoost\n",
    "### Training"
   ]
  },
  {
   "cell_type": "code",
   "execution_count": 108,
   "id": "21b29f9b",
   "metadata": {
    "execution": {
     "iopub.execute_input": "2024-08-06T04:48:50.668775Z",
     "iopub.status.busy": "2024-08-06T04:48:50.668315Z",
     "iopub.status.idle": "2024-08-06T04:48:50.743945Z",
     "shell.execute_reply": "2024-08-06T04:48:50.742722Z"
    },
    "papermill": {
     "duration": 0.103409,
     "end_time": "2024-08-06T04:48:50.746844",
     "exception": false,
     "start_time": "2024-08-06T04:48:50.643435",
     "status": "completed"
    },
    "tags": []
   },
   "outputs": [],
   "source": [
    "X_train, X_test, y_train_label, y_test_label = train_test_split(X, y, test_size=0.25, random_state=42)\n",
    "scaler = StandardScaler()\n",
    "X_train = scaler.fit_transform(X_train)\n",
    "X_test = scaler.fit_transform(X_test)\n",
    "\n",
    "\n",
    "score_mapping = {'Poor': 0, 'Standard': 1, 'Good': 1}\n",
    "y_train = y_train_label.map(score_mapping)\n",
    "y_test = y_test_label.map(score_mapping)"
   ]
  },
  {
   "cell_type": "code",
   "execution_count": 109,
   "id": "35ba8c66",
   "metadata": {
    "execution": {
     "iopub.execute_input": "2024-08-06T04:48:50.795215Z",
     "iopub.status.busy": "2024-08-06T04:48:50.794799Z",
     "iopub.status.idle": "2024-08-06T04:48:50.803941Z",
     "shell.execute_reply": "2024-08-06T04:48:50.802778Z"
    },
    "papermill": {
     "duration": 0.036196,
     "end_time": "2024-08-06T04:48:50.806292",
     "exception": false,
     "start_time": "2024-08-06T04:48:50.770096",
     "status": "completed"
    },
    "tags": []
   },
   "outputs": [
    {
     "data": {
      "text/plain": [
       "42458    Standard\n",
       "37187        Good\n",
       "14389    Standard\n",
       "98893        Poor\n",
       "51884    Standard\n",
       "           ...   \n",
       "47162    Standard\n",
       "17289    Standard\n",
       "31363    Standard\n",
       "2357     Standard\n",
       "44186    Standard\n",
       "Name: Credit_Score, Length: 26766, dtype: object"
      ]
     },
     "execution_count": 109,
     "metadata": {},
     "output_type": "execute_result"
    }
   ],
   "source": [
    "y_train_label"
   ]
  },
  {
   "cell_type": "code",
   "execution_count": null,
   "id": "9c807a08",
   "metadata": {
    "papermill": {
     "duration": 0.023361,
     "end_time": "2024-08-06T04:48:50.853504",
     "exception": false,
     "start_time": "2024-08-06T04:48:50.830143",
     "status": "completed"
    },
    "tags": []
   },
   "outputs": [],
   "source": []
  },
  {
   "cell_type": "code",
   "execution_count": 110,
   "id": "9a5a1745",
   "metadata": {
    "execution": {
     "iopub.execute_input": "2024-08-06T04:48:50.903366Z",
     "iopub.status.busy": "2024-08-06T04:48:50.902935Z",
     "iopub.status.idle": "2024-08-06T04:50:27.925403Z",
     "shell.execute_reply": "2024-08-06T04:50:27.924243Z"
    },
    "papermill": {
     "duration": 97.050862,
     "end_time": "2024-08-06T04:50:27.928210",
     "exception": false,
     "start_time": "2024-08-06T04:48:50.877348",
     "status": "completed"
    },
    "tags": []
   },
   "outputs": [
    {
     "name": "stdout",
     "output_type": "stream",
     "text": [
      "[iter 0] loss=0.6210 val_loss=0.0000 scale=2.0000 norm=4.0000\n",
      "[iter 100] loss=0.4341 val_loss=0.0000 scale=2.0000 norm=3.5325\n",
      "[iter 200] loss=0.4195 val_loss=0.0000 scale=0.5000 norm=0.9046\n",
      "[iter 300] loss=0.4182 val_loss=0.0000 scale=0.5000 norm=0.9081\n",
      "[iter 400] loss=0.4178 val_loss=0.0000 scale=0.0005 norm=0.0009\n"
     ]
    },
    {
     "data": {
      "text/html": [
       "<style>#sk-container-id-2 {\n",
       "  /* Definition of color scheme common for light and dark mode */\n",
       "  --sklearn-color-text: black;\n",
       "  --sklearn-color-line: gray;\n",
       "  /* Definition of color scheme for unfitted estimators */\n",
       "  --sklearn-color-unfitted-level-0: #fff5e6;\n",
       "  --sklearn-color-unfitted-level-1: #f6e4d2;\n",
       "  --sklearn-color-unfitted-level-2: #ffe0b3;\n",
       "  --sklearn-color-unfitted-level-3: chocolate;\n",
       "  /* Definition of color scheme for fitted estimators */\n",
       "  --sklearn-color-fitted-level-0: #f0f8ff;\n",
       "  --sklearn-color-fitted-level-1: #d4ebff;\n",
       "  --sklearn-color-fitted-level-2: #b3dbfd;\n",
       "  --sklearn-color-fitted-level-3: cornflowerblue;\n",
       "\n",
       "  /* Specific color for light theme */\n",
       "  --sklearn-color-text-on-default-background: var(--sg-text-color, var(--theme-code-foreground, var(--jp-content-font-color1, black)));\n",
       "  --sklearn-color-background: var(--sg-background-color, var(--theme-background, var(--jp-layout-color0, white)));\n",
       "  --sklearn-color-border-box: var(--sg-text-color, var(--theme-code-foreground, var(--jp-content-font-color1, black)));\n",
       "  --sklearn-color-icon: #696969;\n",
       "\n",
       "  @media (prefers-color-scheme: dark) {\n",
       "    /* Redefinition of color scheme for dark theme */\n",
       "    --sklearn-color-text-on-default-background: var(--sg-text-color, var(--theme-code-foreground, var(--jp-content-font-color1, white)));\n",
       "    --sklearn-color-background: var(--sg-background-color, var(--theme-background, var(--jp-layout-color0, #111)));\n",
       "    --sklearn-color-border-box: var(--sg-text-color, var(--theme-code-foreground, var(--jp-content-font-color1, white)));\n",
       "    --sklearn-color-icon: #878787;\n",
       "  }\n",
       "}\n",
       "\n",
       "#sk-container-id-2 {\n",
       "  color: var(--sklearn-color-text);\n",
       "}\n",
       "\n",
       "#sk-container-id-2 pre {\n",
       "  padding: 0;\n",
       "}\n",
       "\n",
       "#sk-container-id-2 input.sk-hidden--visually {\n",
       "  border: 0;\n",
       "  clip: rect(1px 1px 1px 1px);\n",
       "  clip: rect(1px, 1px, 1px, 1px);\n",
       "  height: 1px;\n",
       "  margin: -1px;\n",
       "  overflow: hidden;\n",
       "  padding: 0;\n",
       "  position: absolute;\n",
       "  width: 1px;\n",
       "}\n",
       "\n",
       "#sk-container-id-2 div.sk-dashed-wrapped {\n",
       "  border: 1px dashed var(--sklearn-color-line);\n",
       "  margin: 0 0.4em 0.5em 0.4em;\n",
       "  box-sizing: border-box;\n",
       "  padding-bottom: 0.4em;\n",
       "  background-color: var(--sklearn-color-background);\n",
       "}\n",
       "\n",
       "#sk-container-id-2 div.sk-container {\n",
       "  /* jupyter's `normalize.less` sets `[hidden] { display: none; }`\n",
       "     but bootstrap.min.css set `[hidden] { display: none !important; }`\n",
       "     so we also need the `!important` here to be able to override the\n",
       "     default hidden behavior on the sphinx rendered scikit-learn.org.\n",
       "     See: https://github.com/scikit-learn/scikit-learn/issues/21755 */\n",
       "  display: inline-block !important;\n",
       "  position: relative;\n",
       "}\n",
       "\n",
       "#sk-container-id-2 div.sk-text-repr-fallback {\n",
       "  display: none;\n",
       "}\n",
       "\n",
       "div.sk-parallel-item,\n",
       "div.sk-serial,\n",
       "div.sk-item {\n",
       "  /* draw centered vertical line to link estimators */\n",
       "  background-image: linear-gradient(var(--sklearn-color-text-on-default-background), var(--sklearn-color-text-on-default-background));\n",
       "  background-size: 2px 100%;\n",
       "  background-repeat: no-repeat;\n",
       "  background-position: center center;\n",
       "}\n",
       "\n",
       "/* Parallel-specific style estimator block */\n",
       "\n",
       "#sk-container-id-2 div.sk-parallel-item::after {\n",
       "  content: \"\";\n",
       "  width: 100%;\n",
       "  border-bottom: 2px solid var(--sklearn-color-text-on-default-background);\n",
       "  flex-grow: 1;\n",
       "}\n",
       "\n",
       "#sk-container-id-2 div.sk-parallel {\n",
       "  display: flex;\n",
       "  align-items: stretch;\n",
       "  justify-content: center;\n",
       "  background-color: var(--sklearn-color-background);\n",
       "  position: relative;\n",
       "}\n",
       "\n",
       "#sk-container-id-2 div.sk-parallel-item {\n",
       "  display: flex;\n",
       "  flex-direction: column;\n",
       "}\n",
       "\n",
       "#sk-container-id-2 div.sk-parallel-item:first-child::after {\n",
       "  align-self: flex-end;\n",
       "  width: 50%;\n",
       "}\n",
       "\n",
       "#sk-container-id-2 div.sk-parallel-item:last-child::after {\n",
       "  align-self: flex-start;\n",
       "  width: 50%;\n",
       "}\n",
       "\n",
       "#sk-container-id-2 div.sk-parallel-item:only-child::after {\n",
       "  width: 0;\n",
       "}\n",
       "\n",
       "/* Serial-specific style estimator block */\n",
       "\n",
       "#sk-container-id-2 div.sk-serial {\n",
       "  display: flex;\n",
       "  flex-direction: column;\n",
       "  align-items: center;\n",
       "  background-color: var(--sklearn-color-background);\n",
       "  padding-right: 1em;\n",
       "  padding-left: 1em;\n",
       "}\n",
       "\n",
       "\n",
       "/* Toggleable style: style used for estimator/Pipeline/ColumnTransformer box that is\n",
       "clickable and can be expanded/collapsed.\n",
       "- Pipeline and ColumnTransformer use this feature and define the default style\n",
       "- Estimators will overwrite some part of the style using the `sk-estimator` class\n",
       "*/\n",
       "\n",
       "/* Pipeline and ColumnTransformer style (default) */\n",
       "\n",
       "#sk-container-id-2 div.sk-toggleable {\n",
       "  /* Default theme specific background. It is overwritten whether we have a\n",
       "  specific estimator or a Pipeline/ColumnTransformer */\n",
       "  background-color: var(--sklearn-color-background);\n",
       "}\n",
       "\n",
       "/* Toggleable label */\n",
       "#sk-container-id-2 label.sk-toggleable__label {\n",
       "  cursor: pointer;\n",
       "  display: block;\n",
       "  width: 100%;\n",
       "  margin-bottom: 0;\n",
       "  padding: 0.5em;\n",
       "  box-sizing: border-box;\n",
       "  text-align: center;\n",
       "}\n",
       "\n",
       "#sk-container-id-2 label.sk-toggleable__label-arrow:before {\n",
       "  /* Arrow on the left of the label */\n",
       "  content: \"▸\";\n",
       "  float: left;\n",
       "  margin-right: 0.25em;\n",
       "  color: var(--sklearn-color-icon);\n",
       "}\n",
       "\n",
       "#sk-container-id-2 label.sk-toggleable__label-arrow:hover:before {\n",
       "  color: var(--sklearn-color-text);\n",
       "}\n",
       "\n",
       "/* Toggleable content - dropdown */\n",
       "\n",
       "#sk-container-id-2 div.sk-toggleable__content {\n",
       "  max-height: 0;\n",
       "  max-width: 0;\n",
       "  overflow: hidden;\n",
       "  text-align: left;\n",
       "  /* unfitted */\n",
       "  background-color: var(--sklearn-color-unfitted-level-0);\n",
       "}\n",
       "\n",
       "#sk-container-id-2 div.sk-toggleable__content.fitted {\n",
       "  /* fitted */\n",
       "  background-color: var(--sklearn-color-fitted-level-0);\n",
       "}\n",
       "\n",
       "#sk-container-id-2 div.sk-toggleable__content pre {\n",
       "  margin: 0.2em;\n",
       "  border-radius: 0.25em;\n",
       "  color: var(--sklearn-color-text);\n",
       "  /* unfitted */\n",
       "  background-color: var(--sklearn-color-unfitted-level-0);\n",
       "}\n",
       "\n",
       "#sk-container-id-2 div.sk-toggleable__content.fitted pre {\n",
       "  /* unfitted */\n",
       "  background-color: var(--sklearn-color-fitted-level-0);\n",
       "}\n",
       "\n",
       "#sk-container-id-2 input.sk-toggleable__control:checked~div.sk-toggleable__content {\n",
       "  /* Expand drop-down */\n",
       "  max-height: 200px;\n",
       "  max-width: 100%;\n",
       "  overflow: auto;\n",
       "}\n",
       "\n",
       "#sk-container-id-2 input.sk-toggleable__control:checked~label.sk-toggleable__label-arrow:before {\n",
       "  content: \"▾\";\n",
       "}\n",
       "\n",
       "/* Pipeline/ColumnTransformer-specific style */\n",
       "\n",
       "#sk-container-id-2 div.sk-label input.sk-toggleable__control:checked~label.sk-toggleable__label {\n",
       "  color: var(--sklearn-color-text);\n",
       "  background-color: var(--sklearn-color-unfitted-level-2);\n",
       "}\n",
       "\n",
       "#sk-container-id-2 div.sk-label.fitted input.sk-toggleable__control:checked~label.sk-toggleable__label {\n",
       "  background-color: var(--sklearn-color-fitted-level-2);\n",
       "}\n",
       "\n",
       "/* Estimator-specific style */\n",
       "\n",
       "/* Colorize estimator box */\n",
       "#sk-container-id-2 div.sk-estimator input.sk-toggleable__control:checked~label.sk-toggleable__label {\n",
       "  /* unfitted */\n",
       "  background-color: var(--sklearn-color-unfitted-level-2);\n",
       "}\n",
       "\n",
       "#sk-container-id-2 div.sk-estimator.fitted input.sk-toggleable__control:checked~label.sk-toggleable__label {\n",
       "  /* fitted */\n",
       "  background-color: var(--sklearn-color-fitted-level-2);\n",
       "}\n",
       "\n",
       "#sk-container-id-2 div.sk-label label.sk-toggleable__label,\n",
       "#sk-container-id-2 div.sk-label label {\n",
       "  /* The background is the default theme color */\n",
       "  color: var(--sklearn-color-text-on-default-background);\n",
       "}\n",
       "\n",
       "/* On hover, darken the color of the background */\n",
       "#sk-container-id-2 div.sk-label:hover label.sk-toggleable__label {\n",
       "  color: var(--sklearn-color-text);\n",
       "  background-color: var(--sklearn-color-unfitted-level-2);\n",
       "}\n",
       "\n",
       "/* Label box, darken color on hover, fitted */\n",
       "#sk-container-id-2 div.sk-label.fitted:hover label.sk-toggleable__label.fitted {\n",
       "  color: var(--sklearn-color-text);\n",
       "  background-color: var(--sklearn-color-fitted-level-2);\n",
       "}\n",
       "\n",
       "/* Estimator label */\n",
       "\n",
       "#sk-container-id-2 div.sk-label label {\n",
       "  font-family: monospace;\n",
       "  font-weight: bold;\n",
       "  display: inline-block;\n",
       "  line-height: 1.2em;\n",
       "}\n",
       "\n",
       "#sk-container-id-2 div.sk-label-container {\n",
       "  text-align: center;\n",
       "}\n",
       "\n",
       "/* Estimator-specific */\n",
       "#sk-container-id-2 div.sk-estimator {\n",
       "  font-family: monospace;\n",
       "  border: 1px dotted var(--sklearn-color-border-box);\n",
       "  border-radius: 0.25em;\n",
       "  box-sizing: border-box;\n",
       "  margin-bottom: 0.5em;\n",
       "  /* unfitted */\n",
       "  background-color: var(--sklearn-color-unfitted-level-0);\n",
       "}\n",
       "\n",
       "#sk-container-id-2 div.sk-estimator.fitted {\n",
       "  /* fitted */\n",
       "  background-color: var(--sklearn-color-fitted-level-0);\n",
       "}\n",
       "\n",
       "/* on hover */\n",
       "#sk-container-id-2 div.sk-estimator:hover {\n",
       "  /* unfitted */\n",
       "  background-color: var(--sklearn-color-unfitted-level-2);\n",
       "}\n",
       "\n",
       "#sk-container-id-2 div.sk-estimator.fitted:hover {\n",
       "  /* fitted */\n",
       "  background-color: var(--sklearn-color-fitted-level-2);\n",
       "}\n",
       "\n",
       "/* Specification for estimator info (e.g. \"i\" and \"?\") */\n",
       "\n",
       "/* Common style for \"i\" and \"?\" */\n",
       "\n",
       ".sk-estimator-doc-link,\n",
       "a:link.sk-estimator-doc-link,\n",
       "a:visited.sk-estimator-doc-link {\n",
       "  float: right;\n",
       "  font-size: smaller;\n",
       "  line-height: 1em;\n",
       "  font-family: monospace;\n",
       "  background-color: var(--sklearn-color-background);\n",
       "  border-radius: 1em;\n",
       "  height: 1em;\n",
       "  width: 1em;\n",
       "  text-decoration: none !important;\n",
       "  margin-left: 1ex;\n",
       "  /* unfitted */\n",
       "  border: var(--sklearn-color-unfitted-level-1) 1pt solid;\n",
       "  color: var(--sklearn-color-unfitted-level-1);\n",
       "}\n",
       "\n",
       ".sk-estimator-doc-link.fitted,\n",
       "a:link.sk-estimator-doc-link.fitted,\n",
       "a:visited.sk-estimator-doc-link.fitted {\n",
       "  /* fitted */\n",
       "  border: var(--sklearn-color-fitted-level-1) 1pt solid;\n",
       "  color: var(--sklearn-color-fitted-level-1);\n",
       "}\n",
       "\n",
       "/* On hover */\n",
       "div.sk-estimator:hover .sk-estimator-doc-link:hover,\n",
       ".sk-estimator-doc-link:hover,\n",
       "div.sk-label-container:hover .sk-estimator-doc-link:hover,\n",
       ".sk-estimator-doc-link:hover {\n",
       "  /* unfitted */\n",
       "  background-color: var(--sklearn-color-unfitted-level-3);\n",
       "  color: var(--sklearn-color-background);\n",
       "  text-decoration: none;\n",
       "}\n",
       "\n",
       "div.sk-estimator.fitted:hover .sk-estimator-doc-link.fitted:hover,\n",
       ".sk-estimator-doc-link.fitted:hover,\n",
       "div.sk-label-container:hover .sk-estimator-doc-link.fitted:hover,\n",
       ".sk-estimator-doc-link.fitted:hover {\n",
       "  /* fitted */\n",
       "  background-color: var(--sklearn-color-fitted-level-3);\n",
       "  color: var(--sklearn-color-background);\n",
       "  text-decoration: none;\n",
       "}\n",
       "\n",
       "/* Span, style for the box shown on hovering the info icon */\n",
       ".sk-estimator-doc-link span {\n",
       "  display: none;\n",
       "  z-index: 9999;\n",
       "  position: relative;\n",
       "  font-weight: normal;\n",
       "  right: .2ex;\n",
       "  padding: .5ex;\n",
       "  margin: .5ex;\n",
       "  width: min-content;\n",
       "  min-width: 20ex;\n",
       "  max-width: 50ex;\n",
       "  color: var(--sklearn-color-text);\n",
       "  box-shadow: 2pt 2pt 4pt #999;\n",
       "  /* unfitted */\n",
       "  background: var(--sklearn-color-unfitted-level-0);\n",
       "  border: .5pt solid var(--sklearn-color-unfitted-level-3);\n",
       "}\n",
       "\n",
       ".sk-estimator-doc-link.fitted span {\n",
       "  /* fitted */\n",
       "  background: var(--sklearn-color-fitted-level-0);\n",
       "  border: var(--sklearn-color-fitted-level-3);\n",
       "}\n",
       "\n",
       ".sk-estimator-doc-link:hover span {\n",
       "  display: block;\n",
       "}\n",
       "\n",
       "/* \"?\"-specific style due to the `<a>` HTML tag */\n",
       "\n",
       "#sk-container-id-2 a.estimator_doc_link {\n",
       "  float: right;\n",
       "  font-size: 1rem;\n",
       "  line-height: 1em;\n",
       "  font-family: monospace;\n",
       "  background-color: var(--sklearn-color-background);\n",
       "  border-radius: 1rem;\n",
       "  height: 1rem;\n",
       "  width: 1rem;\n",
       "  text-decoration: none;\n",
       "  /* unfitted */\n",
       "  color: var(--sklearn-color-unfitted-level-1);\n",
       "  border: var(--sklearn-color-unfitted-level-1) 1pt solid;\n",
       "}\n",
       "\n",
       "#sk-container-id-2 a.estimator_doc_link.fitted {\n",
       "  /* fitted */\n",
       "  border: var(--sklearn-color-fitted-level-1) 1pt solid;\n",
       "  color: var(--sklearn-color-fitted-level-1);\n",
       "}\n",
       "\n",
       "/* On hover */\n",
       "#sk-container-id-2 a.estimator_doc_link:hover {\n",
       "  /* unfitted */\n",
       "  background-color: var(--sklearn-color-unfitted-level-3);\n",
       "  color: var(--sklearn-color-background);\n",
       "  text-decoration: none;\n",
       "}\n",
       "\n",
       "#sk-container-id-2 a.estimator_doc_link.fitted:hover {\n",
       "  /* fitted */\n",
       "  background-color: var(--sklearn-color-fitted-level-3);\n",
       "}\n",
       "</style><div id=\"sk-container-id-2\" class=\"sk-top-container\"><div class=\"sk-text-repr-fallback\"><pre>NGBClassifier(random_state=RandomState(MT19937) at 0x153F104C840)</pre><b>In a Jupyter environment, please rerun this cell to show the HTML representation or trust the notebook. <br />On GitHub, the HTML representation is unable to render, please try loading this page with nbviewer.org.</b></div><div class=\"sk-container\" hidden><div class=\"sk-item sk-dashed-wrapped\"><div class=\"sk-label-container\"><div class=\"sk-label  sk-toggleable\"><input class=\"sk-toggleable__control sk-hidden--visually\" id=\"sk-estimator-id-4\" type=\"checkbox\" ><label for=\"sk-estimator-id-4\" class=\"sk-toggleable__label  sk-toggleable__label-arrow \">&nbsp;NGBClassifier<span class=\"sk-estimator-doc-link \">i<span>Not fitted</span></span></label><div class=\"sk-toggleable__content \"><pre>NGBClassifier(random_state=RandomState(MT19937) at 0x153F104C840)</pre></div> </div></div><div class=\"sk-parallel\"><div class=\"sk-parallel-item\"><div class=\"sk-item\"><div class=\"sk-label-container\"><div class=\"sk-label  sk-toggleable\"><input class=\"sk-toggleable__control sk-hidden--visually\" id=\"sk-estimator-id-5\" type=\"checkbox\" ><label for=\"sk-estimator-id-5\" class=\"sk-toggleable__label  sk-toggleable__label-arrow \">Base: DecisionTreeRegressor</label><div class=\"sk-toggleable__content \"><pre>DecisionTreeRegressor(criterion=&#x27;friedman_mse&#x27;, max_depth=3)</pre></div> </div></div><div class=\"sk-serial\"><div class=\"sk-item\"><div class=\"sk-estimator  sk-toggleable\"><input class=\"sk-toggleable__control sk-hidden--visually\" id=\"sk-estimator-id-6\" type=\"checkbox\" ><label for=\"sk-estimator-id-6\" class=\"sk-toggleable__label  sk-toggleable__label-arrow \">&nbsp;DecisionTreeRegressor<a class=\"sk-estimator-doc-link \" rel=\"noreferrer\" target=\"_blank\" href=\"https://scikit-learn.org/1.4/modules/generated/sklearn.tree.DecisionTreeRegressor.html\">?<span>Documentation for DecisionTreeRegressor</span></a></label><div class=\"sk-toggleable__content \"><pre>DecisionTreeRegressor(criterion=&#x27;friedman_mse&#x27;, max_depth=3)</pre></div> </div></div></div></div></div></div></div></div></div>"
      ],
      "text/plain": [
       "NGBClassifier(random_state=RandomState(MT19937) at 0x153F104C840)"
      ]
     },
     "execution_count": 110,
     "metadata": {},
     "output_type": "execute_result"
    }
   ],
   "source": [
    "import numpy as np\n",
    "from sklearn.datasets import make_classification\n",
    "from sklearn.model_selection import train_test_split\n",
    "from sklearn.metrics import roc_auc_score\n",
    "from ngboost import NGBClassifier\n",
    "from ngboost.distns import Bernoulli\n",
    "from ngboost.scores import LogScore\n",
    "\n",
    "# NGB is trying to fit the distribution of the response. I try to fit a Bernoulli distributio for good/bad in this case.\n",
    "# In fact, we can do further assumptions like assumming logit(p) ~ Normal. It may not be so reasonable but be acceptable for NGB.\n",
    "ngb = NGBClassifier(Dist=Bernoulli, Score=LogScore, verbose=True)\n",
    "\n",
    "ngb.fit(X_train, y_train)"
   ]
  },
  {
   "cell_type": "code",
   "execution_count": 111,
   "id": "b22b983d",
   "metadata": {
    "execution": {
     "iopub.execute_input": "2024-08-06T04:50:27.980174Z",
     "iopub.status.busy": "2024-08-06T04:50:27.979749Z",
     "iopub.status.idle": "2024-08-06T04:50:29.230929Z",
     "shell.execute_reply": "2024-08-06T04:50:29.229262Z"
    },
    "papermill": {
     "duration": 1.280079,
     "end_time": "2024-08-06T04:50:29.233676",
     "exception": false,
     "start_time": "2024-08-06T04:50:27.953597",
     "status": "completed"
    },
    "tags": []
   },
   "outputs": [
    {
     "name": "stdout",
     "output_type": "stream",
     "text": [
      "Prediction prabability of first ten samples:  [[0.1052993  0.8947007 ]\n",
      " [0.1172107  0.8827893 ]\n",
      " [0.14679918 0.85320082]\n",
      " ...\n",
      " [0.1052993  0.8947007 ]\n",
      " [0.42228381 0.57771619]\n",
      " [0.67084485 0.32915515]]\n",
      "The AUC on the test set is:  0.860025965936044\n"
     ]
    }
   ],
   "source": [
    "predicted_probs = ngb.predict_proba(X_test)\n",
    "\n",
    "predicted_intervals = ngb.pred_dist(X_test).params\n",
    "print('Prediction prabability of first ten samples: ',predicted_probs)\n",
    "roc_auc = roc_auc_score(y_test, predicted_probs[:, 1])\n",
    "print('The AUC on the test set is: ',roc_auc)"
   ]
  },
  {
   "cell_type": "code",
   "execution_count": 112,
   "id": "e4d23a3d",
   "metadata": {
    "execution": {
     "iopub.execute_input": "2024-08-06T04:50:29.303012Z",
     "iopub.status.busy": "2024-08-06T04:50:29.302541Z",
     "iopub.status.idle": "2024-08-06T04:50:29.792889Z",
     "shell.execute_reply": "2024-08-06T04:50:29.791459Z"
    },
    "papermill": {
     "duration": 0.530872,
     "end_time": "2024-08-06T04:50:29.796394",
     "exception": false,
     "start_time": "2024-08-06T04:50:29.265522",
     "status": "completed"
    },
    "tags": []
   },
   "outputs": [
    {
     "data": {
      "image/png": "[encoded data removed]",
      "text/plain": [
       "<Figure size 432x288 with 1 Axes>"
      ]
     },
     "metadata": {
      "needs_background": "light"
     },
     "output_type": "display_data"
    },
    {
     "name": "stdout",
     "output_type": "stream",
     "text": [
      "First ten intervals of credit scores: [[842, 846, 851], [828, 833, 837], [799, 803, 807], [842, 846, 851], [977, 984, 992], [842, 846, 851], [842, 847, 851], [805, 809, 813], [717, 720, 724], [842, 846, 851]]\n"
     ]
    }
   ],
   "source": [
    "#assume asymptotically normal to construct the intervals\n",
    "n = len(X_train)\n",
    "prob1 = [prob[1] for prob in predicted_probs]\n",
    "upper_probs = [prob[1]+1.96*math.sqrt(prob[1]*prob[0]/n) if prob[1]+1.96*math.sqrt(prob[1]*prob[0]/n) < 1 else 0.99 for prob in predicted_probs]\n",
    "lower_probs = [prob[1]-1.96*math.sqrt(prob[1]*prob[0]/n) if prob[1]-1.96*math.sqrt(prob[1]*prob[0]/n) > 0 else 0.01 for prob in predicted_probs]\n",
    "\n",
    "# A method of mapping odds ratio to credit score, just a sample demo here.\n",
    "score = [int(600+80*(math.log2(prob/(1-prob)))) for prob in prob1]\n",
    "upper_score = [int(600+80*(math.log2(prob/(1-prob)))) for prob in upper_probs]\n",
    "lower_score = [int(600+80*(math.log2(prob/(1-prob)))) for prob in lower_probs]\n",
    "plt.hist(score)\n",
    "plt.title('Histogram of Credit Score')\n",
    "plt.xlabel('Credit Score')\n",
    "plt.ylabel('Frequency')\n",
    "plt.show()\n",
    "\n",
    "score_interval = [[ls, s, us] for (ls,s,us) in zip(lower_score, score, upper_score)]\n",
    "print('First ten intervals of credit scores:',score_interval[:10])"
   ]
  },
  {
   "cell_type": "markdown",
   "id": "fe5f4fb3",
   "metadata": {
    "papermill": {
     "duration": 0.025155,
     "end_time": "2024-08-06T04:50:29.846698",
     "exception": false,
     "start_time": "2024-08-06T04:50:29.821543",
     "status": "completed"
    },
    "tags": []
   },
   "source": [
    "### Analysis"
   ]
  },
  {
   "cell_type": "code",
   "execution_count": 113,
   "id": "a5172131",
   "metadata": {
    "execution": {
     "iopub.execute_input": "2024-08-06T04:50:29.899380Z",
     "iopub.status.busy": "2024-08-06T04:50:29.898789Z",
     "iopub.status.idle": "2024-08-06T04:50:31.589466Z",
     "shell.execute_reply": "2024-08-06T04:50:31.588116Z"
    },
    "papermill": {
     "duration": 1.721019,
     "end_time": "2024-08-06T04:50:31.592784",
     "exception": false,
     "start_time": "2024-08-06T04:50:29.871765",
     "status": "completed"
    },
    "tags": []
   },
   "outputs": [
    {
     "name": "stdout",
     "output_type": "stream",
     "text": [
      "Width of first ten credit score intervals [(9, 'Standard'), (9, 'Standard'), (8, 'Good'), (9, 'Standard'), (15, 'Standard'), (9, 'Standard'), (9, 'Standard'), (8, 'Standard'), (7, 'Standard'), (9, 'Standard')]\n"
     ]
    },
    {
     "name": "stderr",
     "output_type": "stream",
     "text": [
      "No artists with labels found to put in legend.  Note that artists whose label start with an underscore are ignored when legend() is called with no argument.\n"
     ]
    },
    {
     "data": {
      "image/png": "[encoded data removed]",
      "text/plain": [
       "<Figure size 432x288 with 1 Axes>"
      ]
     },
     "metadata": {
      "needs_background": "light"
     },
     "output_type": "display_data"
    },
    {
     "data": {
      "image/png": "[encoded data removed]",
      "text/plain": [
       "<Figure size 1152x576 with 4 Axes>"
      ]
     },
     "metadata": {
      "needs_background": "light"
     },
     "output_type": "display_data"
    }
   ],
   "source": [
    "score_width = [(x[2]-x[0],y) for (x,y) in zip(score_interval,y_test_label)]\n",
    "print('Width of first ten credit score intervals',score_width[:10])\n",
    "\n",
    "all_data = np.array([value for value, label in score_width])\n",
    "good_data = np.array([value for value, label in score_width if label == 'Good'])\n",
    "standard_data = np.array([value for value, label in score_width if label == 'Standard'])\n",
    "bad_data = np.array([value for value, label in score_width if label == 'Poor'])\n",
    "good_and_standard_data = np.array([value for value, label in score_width if label in ['Good', 'Standard']])\n",
    "\n",
    "median_value = [np.median(all_data),np.median(good_data),np.median(standard_data),np.median(bad_data),np.median(good_and_standard_data)]\n",
    "mean_value = [np.mean(all_data),np.mean(good_data),np.mean(standard_data),np.mean(bad_data),np.mean(good_and_standard_data)]\n",
    "\n",
    "\n",
    "bins_all = np.linspace(min(all_data), max(all_data), 8)\n",
    "bin_means_all = []\n",
    "bin_counts_all = []\n",
    "for i in range(len(bins_all) - 1):\n",
    "    bin_data_all = all_data[(all_data >= int(bins_all[i])) & (all_data < int(bins_all[i+1]))]\n",
    "    bin_mean_all = np.mean(bin_data_all) if len(bin_data_all) > 0 else np.nan\n",
    "    bin_means_all.append(bin_mean_all)\n",
    "    bin_counts_all.append(len(bin_data_all))\n",
    "\n",
    "bins_good = np.linspace(min(good_data), max(good_data), 8)\n",
    "bin_means_good = []\n",
    "bin_counts_good = []\n",
    "for i in range(len(bins_good) - 1):\n",
    "    bin_data_good = good_data[(good_data >= int(bins_good[i])) & (good_data < int(bins_good[i+1]))]\n",
    "    bin_mean_good = np.mean(bin_data_good) if len(bin_data_good) > 0 else np.nan\n",
    "    bin_means_good.append(bin_mean_good)\n",
    "    bin_counts_good.append(len(bin_data_good))\n",
    "\n",
    "    \n",
    "bins_bad = np.linspace(min(bad_data), max(bad_data), 8)\n",
    "bin_means_bad = []\n",
    "bin_counts_bad = []\n",
    "for i in range(len(bins_bad) - 1):\n",
    "    bin_data_bad = bad_data[(bad_data >= int(bins_bad[i])) & (bad_data < int(bins_bad[i+1]))]\n",
    "    bin_mean_bad = np.mean(bin_data_bad) if len(bin_data_bad) > 0 else np.nan\n",
    "    bin_means_bad.append(bin_mean_bad)\n",
    "    bin_counts_bad.append(len(bin_data_bad))\n",
    "    \n",
    "bins_standard = np.linspace(min(standard_data), max(standard_data), 8)\n",
    "bin_means_standard = []\n",
    "bin_counts_standard = []\n",
    "for i in range(len(bins_standard) - 1):\n",
    "    bin_data_standard = standard_data[(standard_data >= int(bins_standard[i])) & (standard_data < int(bins_standard[i+1]))]\n",
    "    bin_mean_standard = np.mean(bin_data_standard) if len(bin_data_standard) > 0 else np.nan\n",
    "    bin_means_standard.append(bin_mean_standard)\n",
    "    bin_counts_standard.append(len(bin_data_standard))\n",
    "    \n",
    "bins_good_and_standard = np.linspace(min(good_and_standard_data), max(good_and_standard_data), 8)\n",
    "bin_means_good_and_standard = []\n",
    "bin_counts_good_and_standard = []\n",
    "for i in range(len(bins_good_and_standard) - 1):\n",
    "    bin_data_good_and_standard = good_and_standard_data[(good_and_standard_data >= int(bins_good_and_standard[i])) & (good_and_standard_data < int(bins_good_and_standard[i+1]))]\n",
    "    bin_mean_good_and_standard = np.mean(bin_data_good_and_standard) if len(bin_data_good_and_standard) > 0 else np.nan\n",
    "    bin_means_good_and_standard.append(bin_mean_good_and_standard)\n",
    "    bin_counts_good_and_standard.append(len(bin_data_good_and_standard))\n",
    "\n",
    "\n",
    "plt.hist(all_data, bins=7, alpha=0.5)\n",
    "plt.title('Histogram of Credit Score Interval Width (All Label)')\n",
    "plt.text(28,6000,f'Median: {median_value[0]:.2f}', color='black', fontsize=12,  ha='right', va='top')\n",
    "plt.text(28,5500, f'Mean: {mean_value[0]:.2f}', color='black', fontsize=12,  ha='right', va='top')\n",
    "plt.xlabel('Interval Width')\n",
    "plt.ylabel('Frequency')\n",
    "\n",
    "for i, mean in enumerate(bin_means_all):\n",
    "    if not np.isnan(mean):\n",
    "        x_pos = (bins_all[i] + bins_all[i+1]) / 2\n",
    "        y_pos = bin_counts_all[i] * 0.9\n",
    "        plt.text(x_pos, y_pos, f'{mean:.2f}', color='black', fontsize=12, ha='center', va='bottom')\n",
    "plt.legend()\n",
    "plt.show()\n",
    "\n",
    "fig, axs = plt.subplots(2, 2, figsize=(16, 8))\n",
    "axs[1, 0].hist(good_data, bins=7, alpha=0.5, label='Good')\n",
    "axs[1, 0].text(29,800,f'Median: {median_value[1]:.2f}', color='black', fontsize=12,  ha='right', va='top')\n",
    "axs[1, 0].text(29,700, f'Mean: {mean_value[1]:.2f}', color='black', fontsize=12,  ha='right', va='top')\n",
    "axs[1, 0].set_xlabel('Interval Width')\n",
    "axs[1, 0].set_ylabel('Frequency')\n",
    "for i, mean in enumerate(bin_means_good):\n",
    "    if not np.isnan(mean):\n",
    "        x_pos = (bins_good[i] + bins_good[i+1]) / 2\n",
    "        y_pos = bin_counts_good[i] * 0.9\n",
    "        axs[1, 0].text(x_pos, y_pos, f'{mean:.2f}', color='black', fontsize=12, ha='center', va='bottom')\n",
    "\n",
    "axs[1, 1].hist(standard_data, bins=7, alpha=0.5, label='Standard')\n",
    "axs[1, 1].text(29,2200,f'Median: {median_value[2]:.2f}', color='black', fontsize=12,  ha='right', va='top')\n",
    "axs[1, 1].text(29,1900, f'Mean: {mean_value[2]:.2f}', color='black', fontsize=12,  ha='right', va='top')\n",
    "axs[1, 1].set_xlabel('Interval Width')\n",
    "axs[1, 1].set_ylabel('Frequency')\n",
    "for i, mean in enumerate(bin_means_standard):\n",
    "    if not np.isnan(mean):\n",
    "        x_pos = (bins_standard[i] + bins_standard[i+1]) / 2\n",
    "        y_pos = bin_counts_standard[i] * 0.9\n",
    "        axs[1, 1].text(x_pos, y_pos, f'{mean:.2f}', color='black', fontsize=12, ha='center', va='bottom')\n",
    "\n",
    "axs[0, 0].hist(bad_data, bins=7, alpha=0.5, label='Poor')\n",
    "axs[0, 0].text(14.3,1900,f'Median: {median_value[3]:.2f}', color='black', fontsize=12,  ha='right', va='top')\n",
    "axs[0, 0].text(14.3,1750, f'Mean: {mean_value[3]:.2f}', color='black', fontsize=12,  ha='right', va='top')\n",
    "axs[0, 0].set_xlabel('Interval Width')\n",
    "axs[0, 0].set_ylabel('Frequency')\n",
    "for i, mean in enumerate(bin_means_bad):\n",
    "    if not np.isnan(mean):\n",
    "        x_pos = (bins_bad[i] + bins_bad[i+1]) / 2\n",
    "        y_pos = bin_counts_bad[i] * 0.9\n",
    "        axs[0, 0].text(x_pos, y_pos, f'{mean:.2f}', color='black', fontsize=12, ha='center', va='bottom')\n",
    "\n",
    "axs[0, 1].hist(good_and_standard_data, bins=7, alpha=0.5, label='Good and Standard')\n",
    "axs[0, 1].text(29,3000,f'Median: {median_value[4]:.2f}', color='black', fontsize=12,  ha='right', va='top')\n",
    "axs[0, 1].text(29,2600, f'Mean: {mean_value[4]:.2f}', color='black', fontsize=12,  ha='right', va='top')\n",
    "axs[0, 1].set_xlabel('Interval Width')\n",
    "axs[0, 1].set_ylabel('Frequency')\n",
    "for i, mean in enumerate(bin_means_good_and_standard):\n",
    "    if not np.isnan(mean):\n",
    "        x_pos = (bins_good_and_standard[i] + bins_good_and_standard[i+1]) / 2\n",
    "        y_pos = bin_counts_good_and_standard[i] * 0.9\n",
    "        axs[0, 1].text(x_pos, y_pos, f'{mean:.2f}', color='black', fontsize=12, ha='center', va='bottom')\n",
    "\n",
    "for ax in axs.flat:\n",
    "    ax.legend()\n",
    "    ax.set_title('Histogram of Interval Width by Real Label')\n",
    "\n",
    "plt.tight_layout()\n",
    "plt.show()"
   ]
  },
  {
   "cell_type": "markdown",
   "id": "b9ce5c0f",
   "metadata": {
    "papermill": {
     "duration": 0.027074,
     "end_time": "2024-08-06T04:50:31.647769",
     "exception": false,
     "start_time": "2024-08-06T04:50:31.620695",
     "status": "completed"
    },
    "tags": []
   },
   "source": [
    "It seems that for samples labeled Poor, the credit partition interval will be narrower overall. The widest interval of the Poor class is only 10, while the interval length of a considerable number of samples in the Good and Standard classes exceeds 20. This may indicate that our predictions for these samples are not very \"certain\", because the closer the predicted probability is to 0.5, the longer the interval will be."
   ]
  },
  {
   "cell_type": "code",
   "execution_count": 114,
   "id": "fe08412c",
   "metadata": {
    "execution": {
     "iopub.execute_input": "2024-08-06T04:50:31.704812Z",
     "iopub.status.busy": "2024-08-06T04:50:31.704395Z",
     "iopub.status.idle": "2024-08-06T04:50:31.740522Z",
     "shell.execute_reply": "2024-08-06T04:50:31.739347Z"
    },
    "papermill": {
     "duration": 0.067994,
     "end_time": "2024-08-06T04:50:31.743228",
     "exception": false,
     "start_time": "2024-08-06T04:50:31.675234",
     "status": "completed"
    },
    "tags": []
   },
   "outputs": [
    {
     "data": {
      "text/html": [
       "<div>\n",
       "<style scoped>\n",
       "    .dataframe tbody tr th:only-of-type {\n",
       "        vertical-align: middle;\n",
       "    }\n",
       "\n",
       "    .dataframe tbody tr th {\n",
       "        vertical-align: top;\n",
       "    }\n",
       "\n",
       "    .dataframe thead th {\n",
       "        text-align: right;\n",
       "    }\n",
       "</style>\n",
       "<table border=\"1\" class=\"dataframe\">\n",
       "  <thead>\n",
       "    <tr style=\"text-align: right;\">\n",
       "      <th></th>\n",
       "      <th>lower_score</th>\n",
       "      <th>score</th>\n",
       "      <th>upper_score</th>\n",
       "      <th>label</th>\n",
       "      <th>probability</th>\n",
       "    </tr>\n",
       "  </thead>\n",
       "  <tbody>\n",
       "    <tr>\n",
       "      <th>33592</th>\n",
       "      <td>442</td>\n",
       "      <td>446</td>\n",
       "      <td>449</td>\n",
       "      <td>Standard</td>\n",
       "      <td>0.208520</td>\n",
       "    </tr>\n",
       "    <tr>\n",
       "      <th>19817</th>\n",
       "      <td>443</td>\n",
       "      <td>447</td>\n",
       "      <td>450</td>\n",
       "      <td>Poor</td>\n",
       "      <td>0.210036</td>\n",
       "    </tr>\n",
       "    <tr>\n",
       "      <th>57425</th>\n",
       "      <td>446</td>\n",
       "      <td>449</td>\n",
       "      <td>453</td>\n",
       "      <td>Poor</td>\n",
       "      <td>0.213742</td>\n",
       "    </tr>\n",
       "    <tr>\n",
       "      <th>61377</th>\n",
       "      <td>447</td>\n",
       "      <td>450</td>\n",
       "      <td>454</td>\n",
       "      <td>Poor</td>\n",
       "      <td>0.215286</td>\n",
       "    </tr>\n",
       "    <tr>\n",
       "      <th>37244</th>\n",
       "      <td>447</td>\n",
       "      <td>450</td>\n",
       "      <td>453</td>\n",
       "      <td>Poor</td>\n",
       "      <td>0.214828</td>\n",
       "    </tr>\n",
       "  </tbody>\n",
       "</table>\n",
       "</div>"
      ],
      "text/plain": [
       "       lower_score  score  upper_score     label  probability\n",
       "33592          442    446          449  Standard     0.208520\n",
       "19817          443    447          450      Poor     0.210036\n",
       "57425          446    449          453      Poor     0.213742\n",
       "61377          447    450          454      Poor     0.215286\n",
       "37244          447    450          453      Poor     0.214828"
      ]
     },
     "execution_count": 114,
     "metadata": {},
     "output_type": "execute_result"
    }
   ],
   "source": [
    "import pandas as pd\n",
    "\n",
    "score_dict = {'lower_score':lower_score,'score':score,'upper_score':upper_score,'label':y_test_label,'probability':prob1}\n",
    "df = pd.DataFrame(score_dict)\n",
    "df_distinct = df.drop_duplicates(subset=['lower_score', 'score', 'upper_score'])\n",
    "df_distinct = df_distinct.sort_values(df_distinct.columns[1])\n",
    "df_distinct.head()"
   ]
  },
  {
   "cell_type": "code",
   "execution_count": 115,
   "id": "b5a6fe82",
   "metadata": {
    "execution": {
     "iopub.execute_input": "2024-08-06T04:50:31.801087Z",
     "iopub.status.busy": "2024-08-06T04:50:31.800658Z",
     "iopub.status.idle": "2024-08-06T04:50:32.347428Z",
     "shell.execute_reply": "2024-08-06T04:50:32.346135Z"
    },
    "papermill": {
     "duration": 0.57876,
     "end_time": "2024-08-06T04:50:32.350059",
     "exception": false,
     "start_time": "2024-08-06T04:50:31.771299",
     "status": "completed"
    },
    "tags": []
   },
   "outputs": [
    {
     "data": {
      "image/png": "[encoded data removed]",
      "text/plain": [
       "<Figure size 1152x360 with 2 Axes>"
      ]
     },
     "metadata": {
      "needs_background": "light"
     },
     "output_type": "display_data"
    }
   ],
   "source": [
    "fig, axs = plt.subplots(1, 2, figsize=(16, 5))\n",
    "\n",
    "axs[0].plot(df_distinct['score'], df_distinct['lower_score'], label='lower_score')\n",
    "axs[0].plot(df_distinct['score'], df_distinct['upper_score'], label='upper_score')\n",
    "\n",
    "axs[0].fill_between(df_distinct['score'], df_distinct['lower_score'], df_distinct['upper_score'], alpha=0.3)\n",
    "\n",
    "axs[0].set_xlabel('Credit Score')\n",
    "axs[0].set_ylabel('Interval')\n",
    "axs[0].set_title('Plot of Credit Score vs. Interval')\n",
    "axs[0].legend()\n",
    "\n",
    "width_values = df_distinct['upper_score'] - df_distinct['lower_score']\n",
    "axs[1].plot(df_distinct['score'], width_values)\n",
    "axs[1].set_xlabel('Credit Score')\n",
    "axs[1].set_ylabel('Interval Width')\n",
    "axs[1].set_title('Plot of Credit Score vs. Interval Width')\n",
    "\n",
    "plt.show()"
   ]
  },
  {
   "cell_type": "markdown",
   "id": "6d3e42ea",
   "metadata": {
    "papermill": {
     "duration": 0.028817,
     "end_time": "2024-08-06T04:50:32.408192",
     "exception": false,
     "start_time": "2024-08-06T04:50:32.379375",
     "status": "completed"
    },
    "tags": []
   },
   "source": [
    "The interval width is increasing with the growth of credit score. So the people with low credit score seems more stable."
   ]
  },
  {
   "cell_type": "code",
   "execution_count": 116,
   "id": "fc517346",
   "metadata": {
    "execution": {
     "iopub.execute_input": "2024-08-06T04:50:32.469314Z",
     "iopub.status.busy": "2024-08-06T04:50:32.468899Z",
     "iopub.status.idle": "2024-08-06T04:50:32.486773Z",
     "shell.execute_reply": "2024-08-06T04:50:32.485490Z"
    },
    "papermill": {
     "duration": 0.052215,
     "end_time": "2024-08-06T04:50:32.489310",
     "exception": false,
     "start_time": "2024-08-06T04:50:32.437095",
     "status": "completed"
    },
    "tags": []
   },
   "outputs": [
    {
     "data": {
      "text/html": [
       "<div>\n",
       "<style scoped>\n",
       "    .dataframe tbody tr th:only-of-type {\n",
       "        vertical-align: middle;\n",
       "    }\n",
       "\n",
       "    .dataframe tbody tr th {\n",
       "        vertical-align: top;\n",
       "    }\n",
       "\n",
       "    .dataframe thead th {\n",
       "        text-align: right;\n",
       "    }\n",
       "</style>\n",
       "<table border=\"1\" class=\"dataframe\">\n",
       "  <thead>\n",
       "    <tr style=\"text-align: right;\">\n",
       "      <th></th>\n",
       "      <th>lower_score</th>\n",
       "      <th>score</th>\n",
       "      <th>upper_score</th>\n",
       "      <th>label</th>\n",
       "      <th>probability</th>\n",
       "      <th>width</th>\n",
       "      <th>target</th>\n",
       "    </tr>\n",
       "  </thead>\n",
       "  <tbody>\n",
       "    <tr>\n",
       "      <th>22670</th>\n",
       "      <td>842</td>\n",
       "      <td>846</td>\n",
       "      <td>851</td>\n",
       "      <td>Standard</td>\n",
       "      <td>0.894701</td>\n",
       "      <td>9</td>\n",
       "      <td>1</td>\n",
       "    </tr>\n",
       "    <tr>\n",
       "      <th>1811</th>\n",
       "      <td>828</td>\n",
       "      <td>833</td>\n",
       "      <td>837</td>\n",
       "      <td>Standard</td>\n",
       "      <td>0.882789</td>\n",
       "      <td>9</td>\n",
       "      <td>1</td>\n",
       "    </tr>\n",
       "    <tr>\n",
       "      <th>59820</th>\n",
       "      <td>799</td>\n",
       "      <td>803</td>\n",
       "      <td>807</td>\n",
       "      <td>Good</td>\n",
       "      <td>0.853201</td>\n",
       "      <td>8</td>\n",
       "      <td>1</td>\n",
       "    </tr>\n",
       "    <tr>\n",
       "      <th>22348</th>\n",
       "      <td>842</td>\n",
       "      <td>846</td>\n",
       "      <td>851</td>\n",
       "      <td>Standard</td>\n",
       "      <td>0.894701</td>\n",
       "      <td>9</td>\n",
       "      <td>1</td>\n",
       "    </tr>\n",
       "    <tr>\n",
       "      <th>77856</th>\n",
       "      <td>977</td>\n",
       "      <td>984</td>\n",
       "      <td>992</td>\n",
       "      <td>Standard</td>\n",
       "      <td>0.965561</td>\n",
       "      <td>15</td>\n",
       "      <td>1</td>\n",
       "    </tr>\n",
       "  </tbody>\n",
       "</table>\n",
       "</div>"
      ],
      "text/plain": [
       "       lower_score  score  upper_score     label  probability  width  target\n",
       "22670          842    846          851  Standard     0.894701      9       1\n",
       "1811           828    833          837  Standard     0.882789      9       1\n",
       "59820          799    803          807      Good     0.853201      8       1\n",
       "22348          842    846          851  Standard     0.894701      9       1\n",
       "77856          977    984          992  Standard     0.965561     15       1"
      ]
     },
     "execution_count": 116,
     "metadata": {},
     "output_type": "execute_result"
    }
   ],
   "source": [
    "df['width'] = df['upper_score']-df['lower_score']\n",
    "df['target'] = df['label'].map(score_mapping)\n",
    "df.head()"
   ]
  },
  {
   "cell_type": "code",
   "execution_count": 117,
   "id": "c4f88ac4",
   "metadata": {
    "execution": {
     "iopub.execute_input": "2024-08-06T04:50:32.549741Z",
     "iopub.status.busy": "2024-08-06T04:50:32.549310Z",
     "iopub.status.idle": "2024-08-06T04:50:32.588903Z",
     "shell.execute_reply": "2024-08-06T04:50:32.587308Z"
    },
    "papermill": {
     "duration": 0.072883,
     "end_time": "2024-08-06T04:50:32.591636",
     "exception": false,
     "start_time": "2024-08-06T04:50:32.518753",
     "status": "completed"
    },
    "tags": []
   },
   "outputs": [
    {
     "name": "stdout",
     "output_type": "stream",
     "text": [
      "Percentile list of the credit width:  [5.0, 5.0, 6.0, 6.0, 6.0, 6.0, 6.0, 6.0, 6.0, 7.0, 7.0, 8.0, 8.0, 8.0, 9.0, 9.0, 10.0, 10.0, 24.0, 25.0, 28.0]\n"
     ]
    },
    {
     "data": {
      "text/html": [
       "<div>\n",
       "<style scoped>\n",
       "    .dataframe tbody tr th:only-of-type {\n",
       "        vertical-align: middle;\n",
       "    }\n",
       "\n",
       "    .dataframe tbody tr th {\n",
       "        vertical-align: top;\n",
       "    }\n",
       "\n",
       "    .dataframe thead th {\n",
       "        text-align: right;\n",
       "    }\n",
       "</style>\n",
       "<table border=\"1\" class=\"dataframe\">\n",
       "  <thead>\n",
       "    <tr style=\"text-align: right;\">\n",
       "      <th></th>\n",
       "      <th>lower_score</th>\n",
       "      <th>score</th>\n",
       "      <th>upper_score</th>\n",
       "      <th>label</th>\n",
       "      <th>probability</th>\n",
       "      <th>width</th>\n",
       "      <th>target</th>\n",
       "      <th>width_class</th>\n",
       "      <th>pred</th>\n",
       "    </tr>\n",
       "  </thead>\n",
       "  <tbody>\n",
       "    <tr>\n",
       "      <th>22670</th>\n",
       "      <td>842</td>\n",
       "      <td>846</td>\n",
       "      <td>851</td>\n",
       "      <td>Standard</td>\n",
       "      <td>0.894701</td>\n",
       "      <td>9</td>\n",
       "      <td>1</td>\n",
       "      <td>9</td>\n",
       "      <td>1</td>\n",
       "    </tr>\n",
       "    <tr>\n",
       "      <th>1811</th>\n",
       "      <td>828</td>\n",
       "      <td>833</td>\n",
       "      <td>837</td>\n",
       "      <td>Standard</td>\n",
       "      <td>0.882789</td>\n",
       "      <td>9</td>\n",
       "      <td>1</td>\n",
       "      <td>9</td>\n",
       "      <td>1</td>\n",
       "    </tr>\n",
       "    <tr>\n",
       "      <th>59820</th>\n",
       "      <td>799</td>\n",
       "      <td>803</td>\n",
       "      <td>807</td>\n",
       "      <td>Good</td>\n",
       "      <td>0.853201</td>\n",
       "      <td>8</td>\n",
       "      <td>1</td>\n",
       "      <td>8</td>\n",
       "      <td>1</td>\n",
       "    </tr>\n",
       "    <tr>\n",
       "      <th>22348</th>\n",
       "      <td>842</td>\n",
       "      <td>846</td>\n",
       "      <td>851</td>\n",
       "      <td>Standard</td>\n",
       "      <td>0.894701</td>\n",
       "      <td>9</td>\n",
       "      <td>1</td>\n",
       "      <td>9</td>\n",
       "      <td>1</td>\n",
       "    </tr>\n",
       "    <tr>\n",
       "      <th>77856</th>\n",
       "      <td>977</td>\n",
       "      <td>984</td>\n",
       "      <td>992</td>\n",
       "      <td>Standard</td>\n",
       "      <td>0.965561</td>\n",
       "      <td>15</td>\n",
       "      <td>1</td>\n",
       "      <td>11-28</td>\n",
       "      <td>1</td>\n",
       "    </tr>\n",
       "  </tbody>\n",
       "</table>\n",
       "</div>"
      ],
      "text/plain": [
       "       lower_score  score  upper_score     label  probability  width  target   \n",
       "22670          842    846          851  Standard     0.894701      9       1  \\\n",
       "1811           828    833          837  Standard     0.882789      9       1   \n",
       "59820          799    803          807      Good     0.853201      8       1   \n",
       "22348          842    846          851  Standard     0.894701      9       1   \n",
       "77856          977    984          992  Standard     0.965561     15       1   \n",
       "\n",
       "      width_class  pred  \n",
       "22670           9     1  \n",
       "1811            9     1  \n",
       "59820           8     1  \n",
       "22348           9     1  \n",
       "77856       11-28     1  "
      ]
     },
     "execution_count": 117,
     "metadata": {},
     "output_type": "execute_result"
    }
   ],
   "source": [
    "width_percentiles = [np.percentile(df['width'], p) for p in range(0, 101, 5)]\n",
    "print('Percentile list of the credit width: ',width_percentiles)\n",
    "width_mapping = {5:'5', 6:'6', 7:'7',8:'8',9:'9',10:'10',11:'11-28',12:'11-28',13:'11-28',14:'11-28',15:'11-28',16:'11-28',17:'11-28',18:'11-28',19:'11-28',20:'11-28',21:'11-28',22:'11-28',23:'11-28',24:'11-28',25:'11-28',26:'11-28',27:'11-28',28:'11-28'}\n",
    "df['width_class'] = df['width'].map(width_mapping)\n",
    "# use 0.5 as the threshold\n",
    "df['pred'] = df['probability'].apply(lambda x: 1 if x > 0.5 else 0)\n",
    "df.head()"
   ]
  },
  {
   "cell_type": "code",
   "execution_count": 118,
   "id": "ec61d05c",
   "metadata": {
    "execution": {
     "iopub.execute_input": "2024-08-06T04:50:32.652972Z",
     "iopub.status.busy": "2024-08-06T04:50:32.652544Z",
     "iopub.status.idle": "2024-08-06T04:50:32.847884Z",
     "shell.execute_reply": "2024-08-06T04:50:32.846409Z"
    },
    "papermill": {
     "duration": 0.229275,
     "end_time": "2024-08-06T04:50:32.850689",
     "exception": false,
     "start_time": "2024-08-06T04:50:32.621414",
     "status": "completed"
    },
    "tags": []
   },
   "outputs": [
    {
     "name": "stdout",
     "output_type": "stream",
     "text": [
      "             width_class  PositiveRatio  Accuracy    Recall  Precision\n",
      "width_class                                                           \n",
      "10                   734       0.944142  0.944142  1.000000   0.944142\n",
      "11-28               1279       0.996873  0.996873  1.000000   0.996873\n",
      "5                    810       0.532099  0.635802  0.837587   0.616041\n",
      "6                   2812       0.398293  0.690967  0.589286   0.617399\n",
      "7                    851       0.573443  0.819036  0.838115   0.845041\n",
      "8                   1389       0.871850  0.871850  1.000000   0.871850\n",
      "9                   1047       0.885387  0.885387  1.000000   0.885387\n"
     ]
    }
   ],
   "source": [
    "from sklearn.metrics import precision_score, recall_score, f1_score, accuracy_score\n",
    "\n",
    "grouped_df = df.groupby('width_class').agg({'width_class': 'count'})\n",
    "grouped_df['PositiveRatio'] = grouped_df.apply(lambda row: df[df['width_class'] == row.name]['target'].mean(), axis=1)\n",
    "grouped_df['Accuracy'] = grouped_df.apply(lambda row: accuracy_score(df[df['width_class'] == row.name]['target'], df[df['width_class'] == row.name]['pred']), axis=1)\n",
    "grouped_df['Recall'] = grouped_df.apply(lambda row: recall_score(df[df['width_class'] == row.name]['target'], df[df['width_class'] == row.name]['pred']), axis=1)\n",
    "grouped_df['Precision'] = grouped_df.apply(lambda row: precision_score(df[df['width_class'] == row.name]['target'], df[df['width_class'] == row.name]['pred']), axis=1)\n",
    "\n",
    "print(grouped_df)"
   ]
  },
  {
   "cell_type": "markdown",
   "id": "c93e0024",
   "metadata": {
    "papermill": {
     "duration": 0.02946,
     "end_time": "2024-08-06T04:50:32.909992",
     "exception": false,
     "start_time": "2024-08-06T04:50:32.880532",
     "status": "completed"
    },
    "tags": []
   },
   "source": [
    "Basically, the longer width corresponds better metrics outcome. But that's because the samples have long intervals are all positive, and the model prefer to predict a sample as positive because the unbalanced label ratio.\n",
    "\n",
    "We can try to smote the sample then repulicate the analysis"
   ]
  },
  {
   "cell_type": "code",
   "execution_count": 119,
   "id": "9fa895eb",
   "metadata": {
    "execution": {
     "iopub.execute_input": "2024-08-06T04:50:32.973038Z",
     "iopub.status.busy": "2024-08-06T04:50:32.972004Z",
     "iopub.status.idle": "2024-08-06T04:50:32.977734Z",
     "shell.execute_reply": "2024-08-06T04:50:32.976546Z"
    },
    "papermill": {
     "duration": 0.040581,
     "end_time": "2024-08-06T04:50:32.980600",
     "exception": false,
     "start_time": "2024-08-06T04:50:32.940019",
     "status": "completed"
    },
    "tags": []
   },
   "outputs": [],
   "source": [
    "#X_train_sampled, _, y_train_sampl, _ = train_test_split(X_train, y_train, test_size=0.9, random_state=42)\n",
    "\n",
    "#explainer = shap.Explainer(ngb.predict, X_train_sampled)\n",
    "#shap_values = explainer(X_train_sampled)\n",
    "#shap.summary_plot(shap_values, X_train_sampled)"
   ]
  },
  {
   "cell_type": "code",
   "execution_count": 128,
   "id": "be6e27b2",
   "metadata": {
    "execution": {
     "iopub.execute_input": "2024-08-06T04:50:33.043759Z",
     "iopub.status.busy": "2024-08-06T04:50:33.042432Z",
     "iopub.status.idle": "2024-08-06T04:50:33.050790Z",
     "shell.execute_reply": "2024-08-06T04:50:33.049783Z"
    },
    "papermill": {
     "duration": 0.042105,
     "end_time": "2024-08-06T04:50:33.053158",
     "exception": false,
     "start_time": "2024-08-06T04:50:33.011053",
     "status": "completed"
    },
    "tags": []
   },
   "outputs": [
    {
     "name": "stdout",
     "output_type": "stream",
     "text": [
      "['Interest_Rate', 'Outstanding_Debt', 'Changed_Credit_Limit', 'Credit_Mix_Bad', 'Delay_from_due_date', 'Num_Credit_Inquiries', 'Credit_Mix_Standard', 'Credit_History_Age', 'Num_Credit_Card', 'Month', 'Credit_Mix_Good', 'Num_Bank_Accounts', 'Spent Amount Payment_Behaviour', 'Amount_invested_monthly', 'Monthly_Inhand_Salary', 'Monthly_Balance', 'Num_of_Delayed_Payment', 'Count_Student Loan', 'Annual_Income', 'Occupation_Doctor']\n"
     ]
    }
   ],
   "source": [
    "index = [6,11,9,41,7,10,43,13,5,0,42,4,46,15,3,16,8,23,2,29]\n",
    "Important_features = [f for i,f in enumerate(X.columns) if i in index]\n",
    "Important_features = sorted(Important_features,key=lambda x: index.index(list(X.columns).index(x)))\n",
    "print(Important_features)"
   ]
  },
  {
   "cell_type": "markdown",
   "id": "71e8c495",
   "metadata": {
    "papermill": {
     "duration": 0.02971,
     "end_time": "2024-08-06T04:50:33.113198",
     "exception": false,
     "start_time": "2024-08-06T04:50:33.083488",
     "status": "completed"
    },
    "tags": []
   },
   "source": [
    "The importance rank of the features are not surprising, top features are highly related to the credit behaviours."
   ]
  },
  {
   "cell_type": "markdown",
   "id": "8c7b3e03",
   "metadata": {
    "papermill": {
     "duration": 0.030188,
     "end_time": "2024-08-06T04:50:33.173352",
     "exception": false,
     "start_time": "2024-08-06T04:50:33.143164",
     "status": "completed"
    },
    "tags": []
   },
   "source": [
    "## Conformal Prediction\n",
    "\n",
    "### Training"
   ]
  },
  {
   "cell_type": "code",
   "execution_count": 121,
   "id": "bcb4d0c0",
   "metadata": {
    "execution": {
     "iopub.execute_input": "2024-08-06T04:50:33.235623Z",
     "iopub.status.busy": "2024-08-06T04:50:33.235163Z",
     "iopub.status.idle": "2024-08-06T04:50:39.951721Z",
     "shell.execute_reply": "2024-08-06T04:50:39.946988Z"
    },
    "papermill": {
     "duration": 6.75275,
     "end_time": "2024-08-06T04:50:39.956366",
     "exception": false,
     "start_time": "2024-08-06T04:50:33.203616",
     "status": "completed"
    },
    "tags": []
   },
   "outputs": [
    {
     "name": "stdout",
     "output_type": "stream",
     "text": [
      "[1 1 1 1 1 1 1 1 1 1]\n"
     ]
    }
   ],
   "source": [
    "# Uncertainty quantification for classification problem\n",
    "from sklearn.linear_model import LogisticRegression\n",
    "import lightgbm as lgb\n",
    "\n",
    "from mapie.classification import MapieClassifier\n",
    "\n",
    "# Using LightGBM as the base learner\n",
    "classifier = lgb.LGBMClassifier(verbose=0)#LogisticRegression() perform not well #NGBClassifier() can't be used here\n",
    "\n",
    "mapie_classifier = MapieClassifier(estimator=classifier, method='score', cv=5)\n",
    "\n",
    "mapie_classifier = mapie_classifier.fit(X_train, y_train)\n",
    "y_pred, y_pis = mapie_classifier.predict(X_test, alpha=0.05)\n",
    "\n",
    "# Using Logistic Regression as the base learner\n",
    "classifier2 = LogisticRegression()# perform not well #NGBClassifier() can't be used here\n",
    "\n",
    "mapie_classifier2 = MapieClassifier(estimator=classifier2, method='score', cv=5)\n",
    "\n",
    "mapie_classifier2 = mapie_classifier2.fit(X_train, y_train)\n",
    "y_pred2, y_pis2 = mapie_classifier2.predict(X_test, alpha=0.05)\n",
    "\n",
    "print(y_pred[:10])"
   ]
  },
  {
   "cell_type": "markdown",
   "id": "6f856fdd",
   "metadata": {
    "papermill": {
     "duration": 0.051129,
     "end_time": "2024-08-06T04:50:40.070490",
     "exception": false,
     "start_time": "2024-08-06T04:50:40.019361",
     "status": "completed"
    },
    "tags": []
   },
   "source": [
    "Conformal Prediction packages like mapie can't offer probabilities for classification task, it only focus on the possible categories set."
   ]
  },
  {
   "cell_type": "markdown",
   "id": "f28db9fd",
   "metadata": {
    "papermill": {
     "duration": 0.029662,
     "end_time": "2024-08-06T04:50:40.130282",
     "exception": false,
     "start_time": "2024-08-06T04:50:40.100620",
     "status": "completed"
    },
    "tags": []
   },
   "source": [
    "### Comparative analysis"
   ]
  },
  {
   "cell_type": "code",
   "execution_count": 122,
   "id": "5cfc6154",
   "metadata": {
    "execution": {
     "iopub.execute_input": "2024-08-06T04:50:40.193480Z",
     "iopub.status.busy": "2024-08-06T04:50:40.192680Z",
     "iopub.status.idle": "2024-08-06T04:50:40.242774Z",
     "shell.execute_reply": "2024-08-06T04:50:40.241519Z"
    },
    "papermill": {
     "duration": 0.084692,
     "end_time": "2024-08-06T04:50:40.245512",
     "exception": false,
     "start_time": "2024-08-06T04:50:40.160820",
     "status": "completed"
    },
    "tags": []
   },
   "outputs": [
    {
     "name": "stdout",
     "output_type": "stream",
     "text": [
      "When drived from LightGBM\n",
      "Accuracy:\n",
      " CP(LGBM): 0.83 , CP(Logistic): 0.76 , NGBoost: 0.81\n",
      "Precision:\n",
      " CP(LGBM): 0.86 , CP(Logistic): 0.78 , NGBoost: 0.84\n",
      "Recall:\n",
      " CP(LGBM): 0.89 , CP(Logistic): 0.90 , NGBoost: 0.90\n"
     ]
    }
   ],
   "source": [
    "#print(y_pred[:10],y_pis[:10]) #no probability\n",
    "y_ng, pred_ng = df['target'], df['pred']\n",
    "print('When drived from LightGBM')\n",
    "print('Accuracy:\\n', f'CP(LGBM): {accuracy_score(y_test,y_pred):.2f}',',',f'CP(Logistic): {accuracy_score(y_test,y_pred2):.2f}',',', f'NGBoost: {accuracy_score(y_ng,pred_ng):.2f}')\n",
    "print('Precision:\\n', f'CP(LGBM): {precision_score(y_test,y_pred):.2f}',',',f'CP(Logistic): {precision_score(y_test,y_pred2):.2f}',',', f'NGBoost: {precision_score(y_ng,pred_ng):.2f}')\n",
    "print('Recall:\\n', f'CP(LGBM): {recall_score(y_test,y_pred):.2f}',',',f'CP(Logistic): {recall_score(y_test,y_pred2):.2f}',',', f'NGBoost: {recall_score(y_ng,pred_ng):.2f}')"
   ]
  },
  {
   "cell_type": "markdown",
   "id": "2203f6ab",
   "metadata": {
    "papermill": {
     "duration": 0.029682,
     "end_time": "2024-08-06T04:50:40.305309",
     "exception": false,
     "start_time": "2024-08-06T04:50:40.275627",
     "status": "completed"
    },
    "tags": []
   },
   "source": [
    "The outcome of conformal prediction is heavily depended on the base model we choose. When we use some strong models like LGBM, it can  outperform than the NGBoost."
   ]
  },
  {
   "cell_type": "code",
   "execution_count": 123,
   "id": "571bf525",
   "metadata": {
    "execution": {
     "iopub.execute_input": "2024-08-06T04:50:40.367617Z",
     "iopub.status.busy": "2024-08-06T04:50:40.367109Z",
     "iopub.status.idle": "2024-08-06T04:50:40.465166Z",
     "shell.execute_reply": "2024-08-06T04:50:40.464007Z"
    },
    "papermill": {
     "duration": 0.132657,
     "end_time": "2024-08-06T04:50:40.468037",
     "exception": false,
     "start_time": "2024-08-06T04:50:40.335380",
     "status": "completed"
    },
    "tags": []
   },
   "outputs": [
    {
     "data": {
      "text/html": [
       "<div>\n",
       "<style scoped>\n",
       "    .dataframe tbody tr th:only-of-type {\n",
       "        vertical-align: middle;\n",
       "    }\n",
       "\n",
       "    .dataframe tbody tr th {\n",
       "        vertical-align: top;\n",
       "    }\n",
       "\n",
       "    .dataframe thead th {\n",
       "        text-align: right;\n",
       "    }\n",
       "</style>\n",
       "<table border=\"1\" class=\"dataframe\">\n",
       "  <thead>\n",
       "    <tr style=\"text-align: right;\">\n",
       "      <th></th>\n",
       "      <th>Both</th>\n",
       "      <th>True</th>\n",
       "      <th>False</th>\n",
       "    </tr>\n",
       "  </thead>\n",
       "  <tbody>\n",
       "    <tr>\n",
       "      <th>CP_lgbm_set</th>\n",
       "      <td>5114</td>\n",
       "      <td>3808</td>\n",
       "      <td>0</td>\n",
       "    </tr>\n",
       "    <tr>\n",
       "      <th>CP_logistic_set</th>\n",
       "      <td>3784</td>\n",
       "      <td>5138</td>\n",
       "      <td>0</td>\n",
       "    </tr>\n",
       "    <tr>\n",
       "      <th>NGB_set</th>\n",
       "      <td>7694</td>\n",
       "      <td>1228</td>\n",
       "      <td>0</td>\n",
       "    </tr>\n",
       "  </tbody>\n",
       "</table>\n",
       "</div>"
      ],
      "text/plain": [
       "                 Both  True  False\n",
       "CP_lgbm_set      5114  3808      0\n",
       "CP_logistic_set  3784  5138      0\n",
       "NGB_set          7694  1228      0"
      ]
     },
     "execution_count": 123,
     "metadata": {},
     "output_type": "execute_result"
    }
   ],
   "source": [
    "def prob_map(p):\n",
    "    if p>= 0.95:\n",
    "        return 'True'\n",
    "    if p<=0.05:\n",
    "        return 'False'\n",
    "    return p\n",
    "\n",
    "CP_lgbm_set = [str(y[0][0]) if y[0][0]==y[1][0] else 'Both' for y in y_pis]\n",
    "CP_logistic_set = [str(y[0][0]) if y[0][0]==y[1][0] else 'Both' for y in y_pis2]\n",
    "NGB_set = [prob_map(p) if (p>=0.95 or p<=0.05) else 'Both' for p in df['probability']]\n",
    "\n",
    "\n",
    "from collections import Counter\n",
    "counts = [Counter(lst) for lst in [CP_lgbm_set, CP_logistic_set, NGB_set]]\n",
    "\n",
    "data_count = {'Both': [count['Both'] for count in counts],\n",
    "              'True': [count['True'] for count in counts],\n",
    "              'False': [count['False'] for count in counts]}\n",
    "\n",
    "df_count = pd.DataFrame(data_count, index=['CP_lgbm_set', 'CP_logistic_set', 'NGB_set'])\n",
    "\n",
    "df_count.head()"
   ]
  },
  {
   "cell_type": "markdown",
   "id": "7c82ed32",
   "metadata": {
    "papermill": {
     "duration": 0.030316,
     "end_time": "2024-08-06T04:50:40.528811",
     "exception": false,
     "start_time": "2024-08-06T04:50:40.498495",
     "status": "completed"
    },
    "tags": []
   },
   "source": [
    "This table describes the how many samples are believed must be True/False or both are possible under 95% confidence level by three methods. NGBoost doesn't give the possible set directly. But since we assume the y follows a Bernoulli distribution, if the 'p' is upper 0.95 or under 0.05, the possible outcome will shrink to 1 or 0 under 95% confidence level, otherwise we have to say both are possible. However, I don't think those two different methods have the same guarantees on how they define and generate the possible set or intervals, so the comparation is not totally fair.\n",
    "\n",
    "From the table, we can see no sample is recognized pure False, again it may because the unbalanced of labels. And for the Both and True, NGBoost gives the least pure True prediction. But it can hardly say NGBoost is more uncertainly, since there are only two possible label. Chosing Both can only indicate this model dislikes to give an extrem prediction.\n",
    "\n",
    "However, the two conformal prediction methods give the prediction set doesn't totally rely on the base model's predictive probability, so maybe we can think the LGBM Conformal Prediction has higher uncertainty, though it has better performance as well."
   ]
  },
  {
   "cell_type": "code",
   "execution_count": 124,
   "id": "b9b1c647",
   "metadata": {},
   "outputs": [
    {
     "name": "stdout",
     "output_type": "stream",
     "text": [
      "Model saved as credit_score_model.pkl\n"
     ]
    }
   ],
   "source": [
    "import pickle\n",
    "\n",
    "# Assuming 'ngb' is your trained NGBoost model\n",
    "with open('credit_score_model.pkl', 'wb') as file:\n",
    "    pickle.dump(ngb, file)\n",
    "\n",
    "print(\"Model saved as credit_score_model.pkl\")\n"
   ]
  },
  {
   "cell_type": "code",
   "execution_count": 125,
   "id": "1c745566",
   "metadata": {},
   "outputs": [
    {
     "name": "stdout",
     "output_type": "stream",
     "text": [
      "Model loaded successfully!\n",
      "Predicted probabilities for the first 5 samples: [[0.1052993  0.8947007 ]\n",
      " [0.1172107  0.8827893 ]\n",
      " [0.14679918 0.85320082]\n",
      " [0.1052993  0.8947007 ]\n",
      " [0.03443906 0.96556094]]\n",
      "Predicted labels for the first 5 samples: [1 1 1 1 1]\n",
      "The AUC on the test set using the loaded model is: 0.860025965936044\n"
     ]
    }
   ],
   "source": [
    "import pickle\n",
    "import numpy as np\n",
    "\n",
    "# Load the model from the pkl file\n",
    "with open('credit_score_model.pkl', 'rb') as file:\n",
    "    loaded_model = pickle.load(file)\n",
    "\n",
    "# Verify the model is loaded correctly\n",
    "print(\"Model loaded successfully!\")\n",
    "\n",
    "# Test the loaded model by making predictions\n",
    "# Assuming X_test is already defined and preprocessed\n",
    "predicted_probs = loaded_model.predict_proba(X_test)\n",
    "predicted_labels = loaded_model.predict(X_test)\n",
    "\n",
    "# Print some predictions for verification\n",
    "print(\"Predicted probabilities for the first 5 samples:\", predicted_probs[:5])\n",
    "print(\"Predicted labels for the first 5 samples:\", predicted_labels[:5])\n",
    "\n",
    "# Optionally, evaluate the model's performance on the test set\n",
    "from sklearn.metrics import roc_auc_score\n",
    "\n",
    "roc_auc = roc_auc_score(y_test, predicted_probs[:, 1])\n",
    "print(\"The AUC on the test set using the loaded model is:\", roc_auc)\n"
   ]
  }
 ],
 "metadata": {
  "kaggle": {
   "accelerator": "none",
   "dataSources": [
    {
     "datasetId": 2289007,
     "sourceId": 3846912,
     "sourceType": "datasetVersion"
    }
   ],
   "dockerImageVersionId": 30698,
   "isGpuEnabled": false,
   "isInternetEnabled": true,
   "language": "python",
   "sourceType": "notebook"
  },
  "kernelspec": {
   "display_name": "Python 3",
   "language": "python",
   "name": "python3"
  },
  "language_info": {
   "codemirror_mode": {
    "name": "ipython",
    "version": 3
   },
   "file_extension": ".py",
   "mimetype": "text/x-python",
   "name": "python",
   "nbconvert_exporter": "python",
   "pygments_lexer": "ipython3",
   "version": "3.10.1"
  },
  "papermill": {
   "default_parameters": {},
   "duration": 177.348766,
   "end_time": "2024-08-06T04:50:43.464988",
   "environment_variables": {},
   "exception": null,
   "input_path": "__notebook__.ipynb",
   "output_path": "__notebook__.ipynb",
   "parameters": {},
   "start_time": "2024-08-06T04:47:46.116222",
   "version": "2.5.0"
  }
 },
 "nbformat": 4,
 "nbformat_minor": 5
}
